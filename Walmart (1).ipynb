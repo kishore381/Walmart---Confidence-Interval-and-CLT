{
  "nbformat": 4,
  "nbformat_minor": 0,
  "metadata": {
    "colab": {
      "provenance": []
    },
    "kernelspec": {
      "name": "python3",
      "display_name": "Python 3"
    },
    "language_info": {
      "name": "python"
    }
  },
  "cells": [
    {
      "cell_type": "markdown",
      "source": [
        "**Business Case: Walmart - Confidence Interval and CLT**"
      ],
      "metadata": {
        "id": "nc2DQes56odt"
      }
    },
    {
      "cell_type": "code",
      "source": [
        "import pandas as pd\n",
        "import numpy as np\n",
        "import matplotlib.pyplot as plt\n",
        "import seaborn as sns\n",
        "from scipy import stats"
      ],
      "metadata": {
        "id": "GmCELXXZ6qq0"
      },
      "execution_count": null,
      "outputs": []
    },
    {
      "cell_type": "code",
      "source": [
        "!gdown https://d2beiqkhq929f0.cloudfront.net/public_assets/assets/000/001/293/original/walmart_data.csv?1641285094"
      ],
      "metadata": {
        "colab": {
          "base_uri": "https://localhost:8080/"
        },
        "id": "-UukAjve6wEI",
        "outputId": "072ab4d7-49c3-493c-a10f-c76293b795b2"
      },
      "execution_count": null,
      "outputs": [
        {
          "output_type": "stream",
          "name": "stdout",
          "text": [
            "Downloading...\n",
            "From: https://d2beiqkhq929f0.cloudfront.net/public_assets/assets/000/001/293/original/walmart_data.csv?1641285094\n",
            "To: /content/walmart_data.csv?1641285094\n",
            "\r  0% 0.00/23.0M [00:00<?, ?B/s]\r100% 23.0M/23.0M [00:00<00:00, 302MB/s]\n"
          ]
        }
      ]
    },
    {
      "cell_type": "code",
      "source": [
        "df=pd.read_csv(\"https://d2beiqkhq929f0.cloudfront.net/public_assets/assets/000/001/293/original/walmart_data.csv?1641285094\")\n",
        "df"
      ],
      "metadata": {
        "colab": {
          "base_uri": "https://localhost:8080/",
          "height": 423
        },
        "id": "nvGF5SUt7FVM",
        "outputId": "2108d441-9cc8-492e-f4ba-fefff1ae3abb"
      },
      "execution_count": null,
      "outputs": [
        {
          "output_type": "execute_result",
          "data": {
            "text/plain": [
              "        User_ID Product_ID Gender    Age  Occupation City_Category  \\\n",
              "0       1000001  P00069042      F   0-17          10             A   \n",
              "1       1000001  P00248942      F   0-17          10             A   \n",
              "2       1000001  P00087842      F   0-17          10             A   \n",
              "3       1000001  P00085442      F   0-17          10             A   \n",
              "4       1000002  P00285442      M    55+          16             C   \n",
              "...         ...        ...    ...    ...         ...           ...   \n",
              "550063  1006033  P00372445      M  51-55          13             B   \n",
              "550064  1006035  P00375436      F  26-35           1             C   \n",
              "550065  1006036  P00375436      F  26-35          15             B   \n",
              "550066  1006038  P00375436      F    55+           1             C   \n",
              "550067  1006039  P00371644      F  46-50           0             B   \n",
              "\n",
              "       Stay_In_Current_City_Years  Marital_Status  Product_Category  Purchase  \n",
              "0                               2               0                 3      8370  \n",
              "1                               2               0                 1     15200  \n",
              "2                               2               0                12      1422  \n",
              "3                               2               0                12      1057  \n",
              "4                              4+               0                 8      7969  \n",
              "...                           ...             ...               ...       ...  \n",
              "550063                          1               1                20       368  \n",
              "550064                          3               0                20       371  \n",
              "550065                         4+               1                20       137  \n",
              "550066                          2               0                20       365  \n",
              "550067                         4+               1                20       490  \n",
              "\n",
              "[550068 rows x 10 columns]"
            ],
            "text/html": [
              "\n",
              "  <div id=\"df-a8d12f9e-ee89-4559-a8ce-1814bf95a07f\" class=\"colab-df-container\">\n",
              "    <div>\n",
              "<style scoped>\n",
              "    .dataframe tbody tr th:only-of-type {\n",
              "        vertical-align: middle;\n",
              "    }\n",
              "\n",
              "    .dataframe tbody tr th {\n",
              "        vertical-align: top;\n",
              "    }\n",
              "\n",
              "    .dataframe thead th {\n",
              "        text-align: right;\n",
              "    }\n",
              "</style>\n",
              "<table border=\"1\" class=\"dataframe\">\n",
              "  <thead>\n",
              "    <tr style=\"text-align: right;\">\n",
              "      <th></th>\n",
              "      <th>User_ID</th>\n",
              "      <th>Product_ID</th>\n",
              "      <th>Gender</th>\n",
              "      <th>Age</th>\n",
              "      <th>Occupation</th>\n",
              "      <th>City_Category</th>\n",
              "      <th>Stay_In_Current_City_Years</th>\n",
              "      <th>Marital_Status</th>\n",
              "      <th>Product_Category</th>\n",
              "      <th>Purchase</th>\n",
              "    </tr>\n",
              "  </thead>\n",
              "  <tbody>\n",
              "    <tr>\n",
              "      <th>0</th>\n",
              "      <td>1000001</td>\n",
              "      <td>P00069042</td>\n",
              "      <td>F</td>\n",
              "      <td>0-17</td>\n",
              "      <td>10</td>\n",
              "      <td>A</td>\n",
              "      <td>2</td>\n",
              "      <td>0</td>\n",
              "      <td>3</td>\n",
              "      <td>8370</td>\n",
              "    </tr>\n",
              "    <tr>\n",
              "      <th>1</th>\n",
              "      <td>1000001</td>\n",
              "      <td>P00248942</td>\n",
              "      <td>F</td>\n",
              "      <td>0-17</td>\n",
              "      <td>10</td>\n",
              "      <td>A</td>\n",
              "      <td>2</td>\n",
              "      <td>0</td>\n",
              "      <td>1</td>\n",
              "      <td>15200</td>\n",
              "    </tr>\n",
              "    <tr>\n",
              "      <th>2</th>\n",
              "      <td>1000001</td>\n",
              "      <td>P00087842</td>\n",
              "      <td>F</td>\n",
              "      <td>0-17</td>\n",
              "      <td>10</td>\n",
              "      <td>A</td>\n",
              "      <td>2</td>\n",
              "      <td>0</td>\n",
              "      <td>12</td>\n",
              "      <td>1422</td>\n",
              "    </tr>\n",
              "    <tr>\n",
              "      <th>3</th>\n",
              "      <td>1000001</td>\n",
              "      <td>P00085442</td>\n",
              "      <td>F</td>\n",
              "      <td>0-17</td>\n",
              "      <td>10</td>\n",
              "      <td>A</td>\n",
              "      <td>2</td>\n",
              "      <td>0</td>\n",
              "      <td>12</td>\n",
              "      <td>1057</td>\n",
              "    </tr>\n",
              "    <tr>\n",
              "      <th>4</th>\n",
              "      <td>1000002</td>\n",
              "      <td>P00285442</td>\n",
              "      <td>M</td>\n",
              "      <td>55+</td>\n",
              "      <td>16</td>\n",
              "      <td>C</td>\n",
              "      <td>4+</td>\n",
              "      <td>0</td>\n",
              "      <td>8</td>\n",
              "      <td>7969</td>\n",
              "    </tr>\n",
              "    <tr>\n",
              "      <th>...</th>\n",
              "      <td>...</td>\n",
              "      <td>...</td>\n",
              "      <td>...</td>\n",
              "      <td>...</td>\n",
              "      <td>...</td>\n",
              "      <td>...</td>\n",
              "      <td>...</td>\n",
              "      <td>...</td>\n",
              "      <td>...</td>\n",
              "      <td>...</td>\n",
              "    </tr>\n",
              "    <tr>\n",
              "      <th>550063</th>\n",
              "      <td>1006033</td>\n",
              "      <td>P00372445</td>\n",
              "      <td>M</td>\n",
              "      <td>51-55</td>\n",
              "      <td>13</td>\n",
              "      <td>B</td>\n",
              "      <td>1</td>\n",
              "      <td>1</td>\n",
              "      <td>20</td>\n",
              "      <td>368</td>\n",
              "    </tr>\n",
              "    <tr>\n",
              "      <th>550064</th>\n",
              "      <td>1006035</td>\n",
              "      <td>P00375436</td>\n",
              "      <td>F</td>\n",
              "      <td>26-35</td>\n",
              "      <td>1</td>\n",
              "      <td>C</td>\n",
              "      <td>3</td>\n",
              "      <td>0</td>\n",
              "      <td>20</td>\n",
              "      <td>371</td>\n",
              "    </tr>\n",
              "    <tr>\n",
              "      <th>550065</th>\n",
              "      <td>1006036</td>\n",
              "      <td>P00375436</td>\n",
              "      <td>F</td>\n",
              "      <td>26-35</td>\n",
              "      <td>15</td>\n",
              "      <td>B</td>\n",
              "      <td>4+</td>\n",
              "      <td>1</td>\n",
              "      <td>20</td>\n",
              "      <td>137</td>\n",
              "    </tr>\n",
              "    <tr>\n",
              "      <th>550066</th>\n",
              "      <td>1006038</td>\n",
              "      <td>P00375436</td>\n",
              "      <td>F</td>\n",
              "      <td>55+</td>\n",
              "      <td>1</td>\n",
              "      <td>C</td>\n",
              "      <td>2</td>\n",
              "      <td>0</td>\n",
              "      <td>20</td>\n",
              "      <td>365</td>\n",
              "    </tr>\n",
              "    <tr>\n",
              "      <th>550067</th>\n",
              "      <td>1006039</td>\n",
              "      <td>P00371644</td>\n",
              "      <td>F</td>\n",
              "      <td>46-50</td>\n",
              "      <td>0</td>\n",
              "      <td>B</td>\n",
              "      <td>4+</td>\n",
              "      <td>1</td>\n",
              "      <td>20</td>\n",
              "      <td>490</td>\n",
              "    </tr>\n",
              "  </tbody>\n",
              "</table>\n",
              "<p>550068 rows × 10 columns</p>\n",
              "</div>\n",
              "    <div class=\"colab-df-buttons\">\n",
              "\n",
              "  <div class=\"colab-df-container\">\n",
              "    <button class=\"colab-df-convert\" onclick=\"convertToInteractive('df-a8d12f9e-ee89-4559-a8ce-1814bf95a07f')\"\n",
              "            title=\"Convert this dataframe to an interactive table.\"\n",
              "            style=\"display:none;\">\n",
              "\n",
              "  <svg xmlns=\"http://www.w3.org/2000/svg\" height=\"24px\" viewBox=\"0 -960 960 960\">\n",
              "    <path d=\"M120-120v-720h720v720H120Zm60-500h600v-160H180v160Zm220 220h160v-160H400v160Zm0 220h160v-160H400v160ZM180-400h160v-160H180v160Zm440 0h160v-160H620v160ZM180-180h160v-160H180v160Zm440 0h160v-160H620v160Z\"/>\n",
              "  </svg>\n",
              "    </button>\n",
              "\n",
              "  <style>\n",
              "    .colab-df-container {\n",
              "      display:flex;\n",
              "      gap: 12px;\n",
              "    }\n",
              "\n",
              "    .colab-df-convert {\n",
              "      background-color: #E8F0FE;\n",
              "      border: none;\n",
              "      border-radius: 50%;\n",
              "      cursor: pointer;\n",
              "      display: none;\n",
              "      fill: #1967D2;\n",
              "      height: 32px;\n",
              "      padding: 0 0 0 0;\n",
              "      width: 32px;\n",
              "    }\n",
              "\n",
              "    .colab-df-convert:hover {\n",
              "      background-color: #E2EBFA;\n",
              "      box-shadow: 0px 1px 2px rgba(60, 64, 67, 0.3), 0px 1px 3px 1px rgba(60, 64, 67, 0.15);\n",
              "      fill: #174EA6;\n",
              "    }\n",
              "\n",
              "    .colab-df-buttons div {\n",
              "      margin-bottom: 4px;\n",
              "    }\n",
              "\n",
              "    [theme=dark] .colab-df-convert {\n",
              "      background-color: #3B4455;\n",
              "      fill: #D2E3FC;\n",
              "    }\n",
              "\n",
              "    [theme=dark] .colab-df-convert:hover {\n",
              "      background-color: #434B5C;\n",
              "      box-shadow: 0px 1px 3px 1px rgba(0, 0, 0, 0.15);\n",
              "      filter: drop-shadow(0px 1px 2px rgba(0, 0, 0, 0.3));\n",
              "      fill: #FFFFFF;\n",
              "    }\n",
              "  </style>\n",
              "\n",
              "    <script>\n",
              "      const buttonEl =\n",
              "        document.querySelector('#df-a8d12f9e-ee89-4559-a8ce-1814bf95a07f button.colab-df-convert');\n",
              "      buttonEl.style.display =\n",
              "        google.colab.kernel.accessAllowed ? 'block' : 'none';\n",
              "\n",
              "      async function convertToInteractive(key) {\n",
              "        const element = document.querySelector('#df-a8d12f9e-ee89-4559-a8ce-1814bf95a07f');\n",
              "        const dataTable =\n",
              "          await google.colab.kernel.invokeFunction('convertToInteractive',\n",
              "                                                    [key], {});\n",
              "        if (!dataTable) return;\n",
              "\n",
              "        const docLinkHtml = 'Like what you see? Visit the ' +\n",
              "          '<a target=\"_blank\" href=https://colab.research.google.com/notebooks/data_table.ipynb>data table notebook</a>'\n",
              "          + ' to learn more about interactive tables.';\n",
              "        element.innerHTML = '';\n",
              "        dataTable['output_type'] = 'display_data';\n",
              "        await google.colab.output.renderOutput(dataTable, element);\n",
              "        const docLink = document.createElement('div');\n",
              "        docLink.innerHTML = docLinkHtml;\n",
              "        element.appendChild(docLink);\n",
              "      }\n",
              "    </script>\n",
              "  </div>\n",
              "\n",
              "\n",
              "<div id=\"df-21696f78-7fc9-4ea6-be69-1e15346e7797\">\n",
              "  <button class=\"colab-df-quickchart\" onclick=\"quickchart('df-21696f78-7fc9-4ea6-be69-1e15346e7797')\"\n",
              "            title=\"Suggest charts.\"\n",
              "            style=\"display:none;\">\n",
              "\n",
              "<svg xmlns=\"http://www.w3.org/2000/svg\" height=\"24px\"viewBox=\"0 0 24 24\"\n",
              "     width=\"24px\">\n",
              "    <g>\n",
              "        <path d=\"M19 3H5c-1.1 0-2 .9-2 2v14c0 1.1.9 2 2 2h14c1.1 0 2-.9 2-2V5c0-1.1-.9-2-2-2zM9 17H7v-7h2v7zm4 0h-2V7h2v10zm4 0h-2v-4h2v4z\"/>\n",
              "    </g>\n",
              "</svg>\n",
              "  </button>\n",
              "\n",
              "<style>\n",
              "  .colab-df-quickchart {\n",
              "      --bg-color: #E8F0FE;\n",
              "      --fill-color: #1967D2;\n",
              "      --hover-bg-color: #E2EBFA;\n",
              "      --hover-fill-color: #174EA6;\n",
              "      --disabled-fill-color: #AAA;\n",
              "      --disabled-bg-color: #DDD;\n",
              "  }\n",
              "\n",
              "  [theme=dark] .colab-df-quickchart {\n",
              "      --bg-color: #3B4455;\n",
              "      --fill-color: #D2E3FC;\n",
              "      --hover-bg-color: #434B5C;\n",
              "      --hover-fill-color: #FFFFFF;\n",
              "      --disabled-bg-color: #3B4455;\n",
              "      --disabled-fill-color: #666;\n",
              "  }\n",
              "\n",
              "  .colab-df-quickchart {\n",
              "    background-color: var(--bg-color);\n",
              "    border: none;\n",
              "    border-radius: 50%;\n",
              "    cursor: pointer;\n",
              "    display: none;\n",
              "    fill: var(--fill-color);\n",
              "    height: 32px;\n",
              "    padding: 0;\n",
              "    width: 32px;\n",
              "  }\n",
              "\n",
              "  .colab-df-quickchart:hover {\n",
              "    background-color: var(--hover-bg-color);\n",
              "    box-shadow: 0 1px 2px rgba(60, 64, 67, 0.3), 0 1px 3px 1px rgba(60, 64, 67, 0.15);\n",
              "    fill: var(--button-hover-fill-color);\n",
              "  }\n",
              "\n",
              "  .colab-df-quickchart-complete:disabled,\n",
              "  .colab-df-quickchart-complete:disabled:hover {\n",
              "    background-color: var(--disabled-bg-color);\n",
              "    fill: var(--disabled-fill-color);\n",
              "    box-shadow: none;\n",
              "  }\n",
              "\n",
              "  .colab-df-spinner {\n",
              "    border: 2px solid var(--fill-color);\n",
              "    border-color: transparent;\n",
              "    border-bottom-color: var(--fill-color);\n",
              "    animation:\n",
              "      spin 1s steps(1) infinite;\n",
              "  }\n",
              "\n",
              "  @keyframes spin {\n",
              "    0% {\n",
              "      border-color: transparent;\n",
              "      border-bottom-color: var(--fill-color);\n",
              "      border-left-color: var(--fill-color);\n",
              "    }\n",
              "    20% {\n",
              "      border-color: transparent;\n",
              "      border-left-color: var(--fill-color);\n",
              "      border-top-color: var(--fill-color);\n",
              "    }\n",
              "    30% {\n",
              "      border-color: transparent;\n",
              "      border-left-color: var(--fill-color);\n",
              "      border-top-color: var(--fill-color);\n",
              "      border-right-color: var(--fill-color);\n",
              "    }\n",
              "    40% {\n",
              "      border-color: transparent;\n",
              "      border-right-color: var(--fill-color);\n",
              "      border-top-color: var(--fill-color);\n",
              "    }\n",
              "    60% {\n",
              "      border-color: transparent;\n",
              "      border-right-color: var(--fill-color);\n",
              "    }\n",
              "    80% {\n",
              "      border-color: transparent;\n",
              "      border-right-color: var(--fill-color);\n",
              "      border-bottom-color: var(--fill-color);\n",
              "    }\n",
              "    90% {\n",
              "      border-color: transparent;\n",
              "      border-bottom-color: var(--fill-color);\n",
              "    }\n",
              "  }\n",
              "</style>\n",
              "\n",
              "  <script>\n",
              "    async function quickchart(key) {\n",
              "      const quickchartButtonEl =\n",
              "        document.querySelector('#' + key + ' button');\n",
              "      quickchartButtonEl.disabled = true;  // To prevent multiple clicks.\n",
              "      quickchartButtonEl.classList.add('colab-df-spinner');\n",
              "      try {\n",
              "        const charts = await google.colab.kernel.invokeFunction(\n",
              "            'suggestCharts', [key], {});\n",
              "      } catch (error) {\n",
              "        console.error('Error during call to suggestCharts:', error);\n",
              "      }\n",
              "      quickchartButtonEl.classList.remove('colab-df-spinner');\n",
              "      quickchartButtonEl.classList.add('colab-df-quickchart-complete');\n",
              "    }\n",
              "    (() => {\n",
              "      let quickchartButtonEl =\n",
              "        document.querySelector('#df-21696f78-7fc9-4ea6-be69-1e15346e7797 button');\n",
              "      quickchartButtonEl.style.display =\n",
              "        google.colab.kernel.accessAllowed ? 'block' : 'none';\n",
              "    })();\n",
              "  </script>\n",
              "</div>\n",
              "    </div>\n",
              "  </div>\n"
            ]
          },
          "metadata": {},
          "execution_count": 484
        }
      ]
    },
    {
      "cell_type": "code",
      "source": [
        "original_df=df\n",
        "original_df"
      ],
      "metadata": {
        "colab": {
          "base_uri": "https://localhost:8080/",
          "height": 423
        },
        "id": "ZjTUOXVUaUJ8",
        "outputId": "847a309b-109a-46eb-cf90-5a434c1cbccf"
      },
      "execution_count": null,
      "outputs": [
        {
          "output_type": "execute_result",
          "data": {
            "text/plain": [
              "        User_ID Product_ID Gender    Age  Occupation City_Category  \\\n",
              "0       1000001  P00069042      F   0-17          10             A   \n",
              "1       1000001  P00248942      F   0-17          10             A   \n",
              "2       1000001  P00087842      F   0-17          10             A   \n",
              "3       1000001  P00085442      F   0-17          10             A   \n",
              "4       1000002  P00285442      M    55+          16             C   \n",
              "...         ...        ...    ...    ...         ...           ...   \n",
              "550063  1006033  P00372445      M  51-55          13             B   \n",
              "550064  1006035  P00375436      F  26-35           1             C   \n",
              "550065  1006036  P00375436      F  26-35          15             B   \n",
              "550066  1006038  P00375436      F    55+           1             C   \n",
              "550067  1006039  P00371644      F  46-50           0             B   \n",
              "\n",
              "       Stay_In_Current_City_Years  Marital_Status  Product_Category  Purchase  \n",
              "0                               2               0                 3      8370  \n",
              "1                               2               0                 1     15200  \n",
              "2                               2               0                12      1422  \n",
              "3                               2               0                12      1057  \n",
              "4                              4+               0                 8      7969  \n",
              "...                           ...             ...               ...       ...  \n",
              "550063                          1               1                20       368  \n",
              "550064                          3               0                20       371  \n",
              "550065                         4+               1                20       137  \n",
              "550066                          2               0                20       365  \n",
              "550067                         4+               1                20       490  \n",
              "\n",
              "[550068 rows x 10 columns]"
            ],
            "text/html": [
              "\n",
              "  <div id=\"df-b77f3035-3f00-4138-bfdc-39f730c0527e\" class=\"colab-df-container\">\n",
              "    <div>\n",
              "<style scoped>\n",
              "    .dataframe tbody tr th:only-of-type {\n",
              "        vertical-align: middle;\n",
              "    }\n",
              "\n",
              "    .dataframe tbody tr th {\n",
              "        vertical-align: top;\n",
              "    }\n",
              "\n",
              "    .dataframe thead th {\n",
              "        text-align: right;\n",
              "    }\n",
              "</style>\n",
              "<table border=\"1\" class=\"dataframe\">\n",
              "  <thead>\n",
              "    <tr style=\"text-align: right;\">\n",
              "      <th></th>\n",
              "      <th>User_ID</th>\n",
              "      <th>Product_ID</th>\n",
              "      <th>Gender</th>\n",
              "      <th>Age</th>\n",
              "      <th>Occupation</th>\n",
              "      <th>City_Category</th>\n",
              "      <th>Stay_In_Current_City_Years</th>\n",
              "      <th>Marital_Status</th>\n",
              "      <th>Product_Category</th>\n",
              "      <th>Purchase</th>\n",
              "    </tr>\n",
              "  </thead>\n",
              "  <tbody>\n",
              "    <tr>\n",
              "      <th>0</th>\n",
              "      <td>1000001</td>\n",
              "      <td>P00069042</td>\n",
              "      <td>F</td>\n",
              "      <td>0-17</td>\n",
              "      <td>10</td>\n",
              "      <td>A</td>\n",
              "      <td>2</td>\n",
              "      <td>0</td>\n",
              "      <td>3</td>\n",
              "      <td>8370</td>\n",
              "    </tr>\n",
              "    <tr>\n",
              "      <th>1</th>\n",
              "      <td>1000001</td>\n",
              "      <td>P00248942</td>\n",
              "      <td>F</td>\n",
              "      <td>0-17</td>\n",
              "      <td>10</td>\n",
              "      <td>A</td>\n",
              "      <td>2</td>\n",
              "      <td>0</td>\n",
              "      <td>1</td>\n",
              "      <td>15200</td>\n",
              "    </tr>\n",
              "    <tr>\n",
              "      <th>2</th>\n",
              "      <td>1000001</td>\n",
              "      <td>P00087842</td>\n",
              "      <td>F</td>\n",
              "      <td>0-17</td>\n",
              "      <td>10</td>\n",
              "      <td>A</td>\n",
              "      <td>2</td>\n",
              "      <td>0</td>\n",
              "      <td>12</td>\n",
              "      <td>1422</td>\n",
              "    </tr>\n",
              "    <tr>\n",
              "      <th>3</th>\n",
              "      <td>1000001</td>\n",
              "      <td>P00085442</td>\n",
              "      <td>F</td>\n",
              "      <td>0-17</td>\n",
              "      <td>10</td>\n",
              "      <td>A</td>\n",
              "      <td>2</td>\n",
              "      <td>0</td>\n",
              "      <td>12</td>\n",
              "      <td>1057</td>\n",
              "    </tr>\n",
              "    <tr>\n",
              "      <th>4</th>\n",
              "      <td>1000002</td>\n",
              "      <td>P00285442</td>\n",
              "      <td>M</td>\n",
              "      <td>55+</td>\n",
              "      <td>16</td>\n",
              "      <td>C</td>\n",
              "      <td>4+</td>\n",
              "      <td>0</td>\n",
              "      <td>8</td>\n",
              "      <td>7969</td>\n",
              "    </tr>\n",
              "    <tr>\n",
              "      <th>...</th>\n",
              "      <td>...</td>\n",
              "      <td>...</td>\n",
              "      <td>...</td>\n",
              "      <td>...</td>\n",
              "      <td>...</td>\n",
              "      <td>...</td>\n",
              "      <td>...</td>\n",
              "      <td>...</td>\n",
              "      <td>...</td>\n",
              "      <td>...</td>\n",
              "    </tr>\n",
              "    <tr>\n",
              "      <th>550063</th>\n",
              "      <td>1006033</td>\n",
              "      <td>P00372445</td>\n",
              "      <td>M</td>\n",
              "      <td>51-55</td>\n",
              "      <td>13</td>\n",
              "      <td>B</td>\n",
              "      <td>1</td>\n",
              "      <td>1</td>\n",
              "      <td>20</td>\n",
              "      <td>368</td>\n",
              "    </tr>\n",
              "    <tr>\n",
              "      <th>550064</th>\n",
              "      <td>1006035</td>\n",
              "      <td>P00375436</td>\n",
              "      <td>F</td>\n",
              "      <td>26-35</td>\n",
              "      <td>1</td>\n",
              "      <td>C</td>\n",
              "      <td>3</td>\n",
              "      <td>0</td>\n",
              "      <td>20</td>\n",
              "      <td>371</td>\n",
              "    </tr>\n",
              "    <tr>\n",
              "      <th>550065</th>\n",
              "      <td>1006036</td>\n",
              "      <td>P00375436</td>\n",
              "      <td>F</td>\n",
              "      <td>26-35</td>\n",
              "      <td>15</td>\n",
              "      <td>B</td>\n",
              "      <td>4+</td>\n",
              "      <td>1</td>\n",
              "      <td>20</td>\n",
              "      <td>137</td>\n",
              "    </tr>\n",
              "    <tr>\n",
              "      <th>550066</th>\n",
              "      <td>1006038</td>\n",
              "      <td>P00375436</td>\n",
              "      <td>F</td>\n",
              "      <td>55+</td>\n",
              "      <td>1</td>\n",
              "      <td>C</td>\n",
              "      <td>2</td>\n",
              "      <td>0</td>\n",
              "      <td>20</td>\n",
              "      <td>365</td>\n",
              "    </tr>\n",
              "    <tr>\n",
              "      <th>550067</th>\n",
              "      <td>1006039</td>\n",
              "      <td>P00371644</td>\n",
              "      <td>F</td>\n",
              "      <td>46-50</td>\n",
              "      <td>0</td>\n",
              "      <td>B</td>\n",
              "      <td>4+</td>\n",
              "      <td>1</td>\n",
              "      <td>20</td>\n",
              "      <td>490</td>\n",
              "    </tr>\n",
              "  </tbody>\n",
              "</table>\n",
              "<p>550068 rows × 10 columns</p>\n",
              "</div>\n",
              "    <div class=\"colab-df-buttons\">\n",
              "\n",
              "  <div class=\"colab-df-container\">\n",
              "    <button class=\"colab-df-convert\" onclick=\"convertToInteractive('df-b77f3035-3f00-4138-bfdc-39f730c0527e')\"\n",
              "            title=\"Convert this dataframe to an interactive table.\"\n",
              "            style=\"display:none;\">\n",
              "\n",
              "  <svg xmlns=\"http://www.w3.org/2000/svg\" height=\"24px\" viewBox=\"0 -960 960 960\">\n",
              "    <path d=\"M120-120v-720h720v720H120Zm60-500h600v-160H180v160Zm220 220h160v-160H400v160Zm0 220h160v-160H400v160ZM180-400h160v-160H180v160Zm440 0h160v-160H620v160ZM180-180h160v-160H180v160Zm440 0h160v-160H620v160Z\"/>\n",
              "  </svg>\n",
              "    </button>\n",
              "\n",
              "  <style>\n",
              "    .colab-df-container {\n",
              "      display:flex;\n",
              "      gap: 12px;\n",
              "    }\n",
              "\n",
              "    .colab-df-convert {\n",
              "      background-color: #E8F0FE;\n",
              "      border: none;\n",
              "      border-radius: 50%;\n",
              "      cursor: pointer;\n",
              "      display: none;\n",
              "      fill: #1967D2;\n",
              "      height: 32px;\n",
              "      padding: 0 0 0 0;\n",
              "      width: 32px;\n",
              "    }\n",
              "\n",
              "    .colab-df-convert:hover {\n",
              "      background-color: #E2EBFA;\n",
              "      box-shadow: 0px 1px 2px rgba(60, 64, 67, 0.3), 0px 1px 3px 1px rgba(60, 64, 67, 0.15);\n",
              "      fill: #174EA6;\n",
              "    }\n",
              "\n",
              "    .colab-df-buttons div {\n",
              "      margin-bottom: 4px;\n",
              "    }\n",
              "\n",
              "    [theme=dark] .colab-df-convert {\n",
              "      background-color: #3B4455;\n",
              "      fill: #D2E3FC;\n",
              "    }\n",
              "\n",
              "    [theme=dark] .colab-df-convert:hover {\n",
              "      background-color: #434B5C;\n",
              "      box-shadow: 0px 1px 3px 1px rgba(0, 0, 0, 0.15);\n",
              "      filter: drop-shadow(0px 1px 2px rgba(0, 0, 0, 0.3));\n",
              "      fill: #FFFFFF;\n",
              "    }\n",
              "  </style>\n",
              "\n",
              "    <script>\n",
              "      const buttonEl =\n",
              "        document.querySelector('#df-b77f3035-3f00-4138-bfdc-39f730c0527e button.colab-df-convert');\n",
              "      buttonEl.style.display =\n",
              "        google.colab.kernel.accessAllowed ? 'block' : 'none';\n",
              "\n",
              "      async function convertToInteractive(key) {\n",
              "        const element = document.querySelector('#df-b77f3035-3f00-4138-bfdc-39f730c0527e');\n",
              "        const dataTable =\n",
              "          await google.colab.kernel.invokeFunction('convertToInteractive',\n",
              "                                                    [key], {});\n",
              "        if (!dataTable) return;\n",
              "\n",
              "        const docLinkHtml = 'Like what you see? Visit the ' +\n",
              "          '<a target=\"_blank\" href=https://colab.research.google.com/notebooks/data_table.ipynb>data table notebook</a>'\n",
              "          + ' to learn more about interactive tables.';\n",
              "        element.innerHTML = '';\n",
              "        dataTable['output_type'] = 'display_data';\n",
              "        await google.colab.output.renderOutput(dataTable, element);\n",
              "        const docLink = document.createElement('div');\n",
              "        docLink.innerHTML = docLinkHtml;\n",
              "        element.appendChild(docLink);\n",
              "      }\n",
              "    </script>\n",
              "  </div>\n",
              "\n",
              "\n",
              "<div id=\"df-9c4094af-e861-45f6-a326-fa55b0d6719e\">\n",
              "  <button class=\"colab-df-quickchart\" onclick=\"quickchart('df-9c4094af-e861-45f6-a326-fa55b0d6719e')\"\n",
              "            title=\"Suggest charts.\"\n",
              "            style=\"display:none;\">\n",
              "\n",
              "<svg xmlns=\"http://www.w3.org/2000/svg\" height=\"24px\"viewBox=\"0 0 24 24\"\n",
              "     width=\"24px\">\n",
              "    <g>\n",
              "        <path d=\"M19 3H5c-1.1 0-2 .9-2 2v14c0 1.1.9 2 2 2h14c1.1 0 2-.9 2-2V5c0-1.1-.9-2-2-2zM9 17H7v-7h2v7zm4 0h-2V7h2v10zm4 0h-2v-4h2v4z\"/>\n",
              "    </g>\n",
              "</svg>\n",
              "  </button>\n",
              "\n",
              "<style>\n",
              "  .colab-df-quickchart {\n",
              "      --bg-color: #E8F0FE;\n",
              "      --fill-color: #1967D2;\n",
              "      --hover-bg-color: #E2EBFA;\n",
              "      --hover-fill-color: #174EA6;\n",
              "      --disabled-fill-color: #AAA;\n",
              "      --disabled-bg-color: #DDD;\n",
              "  }\n",
              "\n",
              "  [theme=dark] .colab-df-quickchart {\n",
              "      --bg-color: #3B4455;\n",
              "      --fill-color: #D2E3FC;\n",
              "      --hover-bg-color: #434B5C;\n",
              "      --hover-fill-color: #FFFFFF;\n",
              "      --disabled-bg-color: #3B4455;\n",
              "      --disabled-fill-color: #666;\n",
              "  }\n",
              "\n",
              "  .colab-df-quickchart {\n",
              "    background-color: var(--bg-color);\n",
              "    border: none;\n",
              "    border-radius: 50%;\n",
              "    cursor: pointer;\n",
              "    display: none;\n",
              "    fill: var(--fill-color);\n",
              "    height: 32px;\n",
              "    padding: 0;\n",
              "    width: 32px;\n",
              "  }\n",
              "\n",
              "  .colab-df-quickchart:hover {\n",
              "    background-color: var(--hover-bg-color);\n",
              "    box-shadow: 0 1px 2px rgba(60, 64, 67, 0.3), 0 1px 3px 1px rgba(60, 64, 67, 0.15);\n",
              "    fill: var(--button-hover-fill-color);\n",
              "  }\n",
              "\n",
              "  .colab-df-quickchart-complete:disabled,\n",
              "  .colab-df-quickchart-complete:disabled:hover {\n",
              "    background-color: var(--disabled-bg-color);\n",
              "    fill: var(--disabled-fill-color);\n",
              "    box-shadow: none;\n",
              "  }\n",
              "\n",
              "  .colab-df-spinner {\n",
              "    border: 2px solid var(--fill-color);\n",
              "    border-color: transparent;\n",
              "    border-bottom-color: var(--fill-color);\n",
              "    animation:\n",
              "      spin 1s steps(1) infinite;\n",
              "  }\n",
              "\n",
              "  @keyframes spin {\n",
              "    0% {\n",
              "      border-color: transparent;\n",
              "      border-bottom-color: var(--fill-color);\n",
              "      border-left-color: var(--fill-color);\n",
              "    }\n",
              "    20% {\n",
              "      border-color: transparent;\n",
              "      border-left-color: var(--fill-color);\n",
              "      border-top-color: var(--fill-color);\n",
              "    }\n",
              "    30% {\n",
              "      border-color: transparent;\n",
              "      border-left-color: var(--fill-color);\n",
              "      border-top-color: var(--fill-color);\n",
              "      border-right-color: var(--fill-color);\n",
              "    }\n",
              "    40% {\n",
              "      border-color: transparent;\n",
              "      border-right-color: var(--fill-color);\n",
              "      border-top-color: var(--fill-color);\n",
              "    }\n",
              "    60% {\n",
              "      border-color: transparent;\n",
              "      border-right-color: var(--fill-color);\n",
              "    }\n",
              "    80% {\n",
              "      border-color: transparent;\n",
              "      border-right-color: var(--fill-color);\n",
              "      border-bottom-color: var(--fill-color);\n",
              "    }\n",
              "    90% {\n",
              "      border-color: transparent;\n",
              "      border-bottom-color: var(--fill-color);\n",
              "    }\n",
              "  }\n",
              "</style>\n",
              "\n",
              "  <script>\n",
              "    async function quickchart(key) {\n",
              "      const quickchartButtonEl =\n",
              "        document.querySelector('#' + key + ' button');\n",
              "      quickchartButtonEl.disabled = true;  // To prevent multiple clicks.\n",
              "      quickchartButtonEl.classList.add('colab-df-spinner');\n",
              "      try {\n",
              "        const charts = await google.colab.kernel.invokeFunction(\n",
              "            'suggestCharts', [key], {});\n",
              "      } catch (error) {\n",
              "        console.error('Error during call to suggestCharts:', error);\n",
              "      }\n",
              "      quickchartButtonEl.classList.remove('colab-df-spinner');\n",
              "      quickchartButtonEl.classList.add('colab-df-quickchart-complete');\n",
              "    }\n",
              "    (() => {\n",
              "      let quickchartButtonEl =\n",
              "        document.querySelector('#df-9c4094af-e861-45f6-a326-fa55b0d6719e button');\n",
              "      quickchartButtonEl.style.display =\n",
              "        google.colab.kernel.accessAllowed ? 'block' : 'none';\n",
              "    })();\n",
              "  </script>\n",
              "</div>\n",
              "    </div>\n",
              "  </div>\n"
            ]
          },
          "metadata": {},
          "execution_count": 485
        }
      ]
    },
    {
      "cell_type": "markdown",
      "source": [
        "**Attributes Information**"
      ],
      "metadata": {
        "id": "GxApswTA7i0K"
      }
    },
    {
      "cell_type": "markdown",
      "source": [
        "* User_ID:\tUser ID\n",
        "* Product_ID:\tProduct ID\n",
        "* Gender:\tSex of User\n",
        "* Age:\tAge in bins\n",
        "* Occupation:\tOccupation(Masked)\n",
        "* City_Category:\tCategory of the City (A,B,C)\n",
        "* StayInCurrentCityYears:\tNumber of years stay in current city\n",
        "* Marital_Status:\tMarital Status\n",
        "* ProductCategory:\tProduct Category (Masked)\n",
        "* Purchase:\tPurchase Amount\n",
        "\n",
        "\n"
      ],
      "metadata": {
        "id": "55kNGxq87tLC"
      }
    },
    {
      "cell_type": "markdown",
      "source": [
        "**1.1.Defining Problem Statement and Analyzing basic metrics**"
      ],
      "metadata": {
        "id": "b0WU_f5m78ZQ"
      }
    },
    {
      "cell_type": "markdown",
      "source": [
        "**Defining Problem Statement**"
      ],
      "metadata": {
        "id": "H12R-JRK8CQh"
      }
    },
    {
      "cell_type": "markdown",
      "source": [
        "* **The Management team at Walmart Inc. wants to analyze the customer purchase behavior. They want to check whether women spend more on Black Friday than men? (Assume 50 million customers are male and 50 million are female).**"
      ],
      "metadata": {
        "id": "pIh-KqJB8KDc"
      }
    },
    {
      "cell_type": "markdown",
      "source": [
        "**Analyzing basic metrics**"
      ],
      "metadata": {
        "id": "_v84HyEO9HLU"
      }
    },
    {
      "cell_type": "markdown",
      "source": [
        "* **Observations on shape of data**"
      ],
      "metadata": {
        "id": "apkoOi5r9VUW"
      }
    },
    {
      "cell_type": "code",
      "source": [
        "print(df.shape)"
      ],
      "metadata": {
        "colab": {
          "base_uri": "https://localhost:8080/"
        },
        "id": "Gb-v8mZL9cI0",
        "outputId": "a5c1a0b9-de9c-4e3a-cf75-b1d6131283d2"
      },
      "execution_count": null,
      "outputs": [
        {
          "output_type": "stream",
          "name": "stdout",
          "text": [
            "(550068, 10)\n"
          ]
        }
      ]
    },
    {
      "cell_type": "markdown",
      "source": [
        "* **Observations on data types of all the attributes**"
      ],
      "metadata": {
        "id": "Hi26kNxa9kMf"
      }
    },
    {
      "cell_type": "code",
      "source": [
        "print(df.dtypes)"
      ],
      "metadata": {
        "colab": {
          "base_uri": "https://localhost:8080/"
        },
        "id": "m0X-n6Zm9s4f",
        "outputId": "32b6ee1f-8a22-48d7-c036-e12f14411d97"
      },
      "execution_count": null,
      "outputs": [
        {
          "output_type": "stream",
          "name": "stdout",
          "text": [
            "User_ID                        int64\n",
            "Product_ID                    object\n",
            "Gender                        object\n",
            "Age                           object\n",
            "Occupation                     int64\n",
            "City_Category                 object\n",
            "Stay_In_Current_City_Years    object\n",
            "Marital_Status                 int64\n",
            "Product_Category               int64\n",
            "Purchase                       int64\n",
            "dtype: object\n"
          ]
        }
      ]
    },
    {
      "cell_type": "markdown",
      "source": [
        "* **Insights**\n",
        "\n",
        "  **1. The user_id,Occupation,Marital_Status,Product_category,Purchase are integer data type**\n",
        "\n",
        "  **2. The Product_ID,Gender,Age,City_Category,Stay_In_Current_City_Years are string data type**"
      ],
      "metadata": {
        "id": "_rZ8QW1B92Zn"
      }
    },
    {
      "cell_type": "markdown",
      "source": [
        "* **Conversion of categorical attributes to 'category'**"
      ],
      "metadata": {
        "id": "UBs7Mkod-_nH"
      }
    },
    {
      "cell_type": "code",
      "source": [
        "categorical_columns = ['Product_ID','Gender','Age','City_Category','Stay_In_Current_City_Years']\n",
        "df[categorical_columns] = df[categorical_columns].astype('category')\n",
        "print(df[categorical_columns])"
      ],
      "metadata": {
        "colab": {
          "base_uri": "https://localhost:8080/"
        },
        "id": "X2ecUtwd_IJx",
        "outputId": "0bbc6504-ce36-4d8f-fc0d-fec606935024"
      },
      "execution_count": null,
      "outputs": [
        {
          "output_type": "stream",
          "name": "stdout",
          "text": [
            "       Product_ID Gender    Age City_Category Stay_In_Current_City_Years\n",
            "0       P00069042      F   0-17             A                          2\n",
            "1       P00248942      F   0-17             A                          2\n",
            "2       P00087842      F   0-17             A                          2\n",
            "3       P00085442      F   0-17             A                          2\n",
            "4       P00285442      M    55+             C                         4+\n",
            "...           ...    ...    ...           ...                        ...\n",
            "550063  P00372445      M  51-55             B                          1\n",
            "550064  P00375436      F  26-35             C                          3\n",
            "550065  P00375436      F  26-35             B                         4+\n",
            "550066  P00375436      F    55+             C                          2\n",
            "550067  P00371644      F  46-50             B                         4+\n",
            "\n",
            "[550068 rows x 5 columns]\n"
          ]
        }
      ]
    },
    {
      "cell_type": "markdown",
      "source": [
        "* **Statistical Summary**"
      ],
      "metadata": {
        "id": "oPAJmRDT_84I"
      }
    },
    {
      "cell_type": "code",
      "source": [
        "print(df.describe())"
      ],
      "metadata": {
        "colab": {
          "base_uri": "https://localhost:8080/"
        },
        "id": "-l3hu0fzABTO",
        "outputId": "b01e5631-a677-4c0b-b2e7-121fc2d4808f"
      },
      "execution_count": null,
      "outputs": [
        {
          "output_type": "stream",
          "name": "stdout",
          "text": [
            "            User_ID     Occupation  Marital_Status  Product_Category  \\\n",
            "count  5.500680e+05  550068.000000   550068.000000     550068.000000   \n",
            "mean   1.003029e+06       8.076707        0.409653          5.404270   \n",
            "std    1.727592e+03       6.522660        0.491770          3.936211   \n",
            "min    1.000001e+06       0.000000        0.000000          1.000000   \n",
            "25%    1.001516e+06       2.000000        0.000000          1.000000   \n",
            "50%    1.003077e+06       7.000000        0.000000          5.000000   \n",
            "75%    1.004478e+06      14.000000        1.000000          8.000000   \n",
            "max    1.006040e+06      20.000000        1.000000         20.000000   \n",
            "\n",
            "            Purchase  \n",
            "count  550068.000000  \n",
            "mean     9263.968713  \n",
            "std      5023.065394  \n",
            "min        12.000000  \n",
            "25%      5823.000000  \n",
            "50%      8047.000000  \n",
            "75%     12054.000000  \n",
            "max     23961.000000  \n"
          ]
        }
      ]
    },
    {
      "cell_type": "markdown",
      "source": [
        "**1.2.Non-Graphical Analysis: Value counts and unique attributes**"
      ],
      "metadata": {
        "id": "trIvAIhoALfJ"
      }
    },
    {
      "cell_type": "markdown",
      "source": [
        "* **Value counts**"
      ],
      "metadata": {
        "id": "e33mEzqiARrN"
      }
    },
    {
      "cell_type": "code",
      "source": [
        "column_to_use=df.columns\n",
        "\n",
        "for col in column_to_use:\n",
        "  column_counts=df[col].value_counts().head(5)\n",
        "  print(f\"{col} Value counts :\")\n",
        "  print(column_counts)\n",
        "  print(\"************************************\")\n",
        "  print()"
      ],
      "metadata": {
        "colab": {
          "base_uri": "https://localhost:8080/"
        },
        "id": "4fLhdPRJAVgQ",
        "outputId": "41a402f7-0ab8-4002-c063-116b7dcd213e"
      },
      "execution_count": null,
      "outputs": [
        {
          "output_type": "stream",
          "name": "stdout",
          "text": [
            "User_ID Value counts :\n",
            "1001680    1026\n",
            "1004277     979\n",
            "1001941     898\n",
            "1001181     862\n",
            "1000889     823\n",
            "Name: User_ID, dtype: int64\n",
            "************************************\n",
            "\n",
            "Product_ID Value counts :\n",
            "P00265242    1880\n",
            "P00025442    1615\n",
            "P00110742    1612\n",
            "P00112142    1562\n",
            "P00057642    1470\n",
            "Name: Product_ID, dtype: int64\n",
            "************************************\n",
            "\n",
            "Gender Value counts :\n",
            "M    414259\n",
            "F    135809\n",
            "Name: Gender, dtype: int64\n",
            "************************************\n",
            "\n",
            "Age Value counts :\n",
            "26-35    219587\n",
            "36-45    110013\n",
            "18-25     99660\n",
            "46-50     45701\n",
            "51-55     38501\n",
            "Name: Age, dtype: int64\n",
            "************************************\n",
            "\n",
            "Occupation Value counts :\n",
            "4     72308\n",
            "0     69638\n",
            "7     59133\n",
            "1     47426\n",
            "17    40043\n",
            "Name: Occupation, dtype: int64\n",
            "************************************\n",
            "\n",
            "City_Category Value counts :\n",
            "B    231173\n",
            "C    171175\n",
            "A    147720\n",
            "Name: City_Category, dtype: int64\n",
            "************************************\n",
            "\n",
            "Stay_In_Current_City_Years Value counts :\n",
            "1     193821\n",
            "2     101838\n",
            "3      95285\n",
            "4+     84726\n",
            "0      74398\n",
            "Name: Stay_In_Current_City_Years, dtype: int64\n",
            "************************************\n",
            "\n",
            "Marital_Status Value counts :\n",
            "0    324731\n",
            "1    225337\n",
            "Name: Marital_Status, dtype: int64\n",
            "************************************\n",
            "\n",
            "Product_Category Value counts :\n",
            "5     150933\n",
            "1     140378\n",
            "8     113925\n",
            "11     24287\n",
            "2      23864\n",
            "Name: Product_Category, dtype: int64\n",
            "************************************\n",
            "\n",
            "Purchase Value counts :\n",
            "7011    191\n",
            "7193    188\n",
            "6855    187\n",
            "6891    184\n",
            "7012    183\n",
            "Name: Purchase, dtype: int64\n",
            "************************************\n",
            "\n"
          ]
        }
      ]
    },
    {
      "cell_type": "markdown",
      "source": [
        "* **Insights**\n",
        "\n",
        "  **1.There are 414259 are Male customer and 135809 are Female customer.**\n",
        "\n",
        "  **2.The age group between 26-35 contributes the most to Walmart's purchases accounting for 219,587 followed by the age group between 36-45 which contributes 110,013 purchases.**"
      ],
      "metadata": {
        "id": "O84FPp7AA_5R"
      }
    },
    {
      "cell_type": "markdown",
      "source": [
        "* **Unique attributes**"
      ],
      "metadata": {
        "id": "4ZLt5pPLCeXT"
      }
    },
    {
      "cell_type": "code",
      "source": [
        "column_to_use = df.columns\n",
        "\n",
        "for col in column_to_use:\n",
        "    column_unique = df[col].nunique()\n",
        "    print(f\"{col} Unique Attributes:\",column_unique)"
      ],
      "metadata": {
        "colab": {
          "base_uri": "https://localhost:8080/"
        },
        "id": "yMSoXkmXCjd0",
        "outputId": "063cd4d5-e946-4f25-c4d3-5f03be87345a"
      },
      "execution_count": null,
      "outputs": [
        {
          "output_type": "stream",
          "name": "stdout",
          "text": [
            "User_ID Unique Attributes: 5891\n",
            "Product_ID Unique Attributes: 3631\n",
            "Gender Unique Attributes: 2\n",
            "Age Unique Attributes: 7\n",
            "Occupation Unique Attributes: 21\n",
            "City_Category Unique Attributes: 3\n",
            "Stay_In_Current_City_Years Unique Attributes: 5\n",
            "Marital_Status Unique Attributes: 2\n",
            "Product_Category Unique Attributes: 20\n",
            "Purchase Unique Attributes: 18105\n"
          ]
        }
      ]
    },
    {
      "cell_type": "markdown",
      "source": [
        "* **Insights**\n",
        "  \n",
        "  **1.There were 3,631 different kinds of products in Walmart's store, categorised under 20 different categories**\n",
        "\n",
        "  **2.There were 5,891 different user IDs distributed across 7 different age groups**"
      ],
      "metadata": {
        "id": "p6OR_trhE3VB"
      }
    },
    {
      "cell_type": "markdown",
      "source": [
        "**1.3.Visual Analysis - Univariate & Bivariate**"
      ],
      "metadata": {
        "id": "A233iP_OF0_k"
      }
    },
    {
      "cell_type": "markdown",
      "source": [
        "*  **Continous Variable**"
      ],
      "metadata": {
        "id": "IQkV4plybUeA"
      }
    },
    {
      "cell_type": "markdown",
      "source": [
        "* **Univariate-->Distplot**"
      ],
      "metadata": {
        "id": "GKPX6qcEF9Ko"
      }
    },
    {
      "cell_type": "code",
      "source": [
        "plt.figure(figsize=(10, 6))\n",
        "sns.distplot(df['Product_Category'],kde=True,color=\"green\")\n",
        "plt.title('Distribution of Purchases in Walmart Store')\n",
        "plt.xlabel('Amount')\n",
        "plt.ylabel('Frequency')"
      ],
      "metadata": {
        "colab": {
          "base_uri": "https://localhost:8080/",
          "height": 772
        },
        "id": "wmY3hCxiGNVj",
        "outputId": "ef46932d-ed77-499e-bffc-528c18e5a961"
      },
      "execution_count": null,
      "outputs": [
        {
          "output_type": "stream",
          "name": "stderr",
          "text": [
            "<ipython-input-492-acdba9682fc2>:2: UserWarning: \n",
            "\n",
            "`distplot` is a deprecated function and will be removed in seaborn v0.14.0.\n",
            "\n",
            "Please adapt your code to use either `displot` (a figure-level function with\n",
            "similar flexibility) or `histplot` (an axes-level function for histograms).\n",
            "\n",
            "For a guide to updating your code to use the new functions, please see\n",
            "https://gist.github.com/mwaskom/de44147ed2974457ad6372750bbe5751\n",
            "\n",
            "  sns.distplot(df['Product_Category'],kde=True,color=\"green\")\n"
          ]
        },
        {
          "output_type": "execute_result",
          "data": {
            "text/plain": [
              "Text(0, 0.5, 'Frequency')"
            ]
          },
          "metadata": {},
          "execution_count": 492
        },
        {
          "output_type": "display_data",
          "data": {
            "text/plain": [
              "<Figure size 1000x600 with 1 Axes>"
            ],
            "image/png": "[encoded data removed]"
          },
          "metadata": {}
        }
      ]
    },
    {
      "cell_type": "markdown",
      "source": [
        "*  **Univariate analysis-->Countplot**"
      ],
      "metadata": {
        "id": "B5mdeoEoLmF7"
      }
    },
    {
      "cell_type": "code",
      "source": [
        "plt.figure(figsize=(10,6))\n",
        "sns.countplot(data=df, x='Marital_Status')\n",
        "plt.title('Count of Marital Status')\n",
        "plt.xlabel('Unmarried(0) and Married(1)')\n",
        "plt.ylabel('Count')\n",
        "plt.show()"
      ],
      "metadata": {
        "colab": {
          "base_uri": "https://localhost:8080/",
          "height": 564
        },
        "id": "-IrtKvEyL4B_",
        "outputId": "7944ba58-2bf9-40df-92b5-89ee39dda215"
      },
      "execution_count": null,
      "outputs": [
        {
          "output_type": "display_data",
          "data": {
            "text/plain": [
              "<Figure size 1000x600 with 1 Axes>"
            ],
            "image/png": "[encoded data removed]"
          },
          "metadata": {}
        }
      ]
    },
    {
      "cell_type": "markdown",
      "source": [
        "* **Univariate analysis-->Histogram**"
      ],
      "metadata": {
        "id": "rL9Hr74FObtz"
      }
    },
    {
      "cell_type": "code",
      "source": [
        "plt.figure(figsize=(10,6))\n",
        "sns.histplot(data=df,x='Purchase')\n",
        "plt.title('Distribution of Purchased Amount')\n",
        "plt.xlabel('Amount')\n",
        "plt.ylabel('Frequency')\n",
        "plt.show()"
      ],
      "metadata": {
        "colab": {
          "base_uri": "https://localhost:8080/",
          "height": 564
        },
        "id": "0L-QZS7qOhme",
        "outputId": "815e9b8c-d035-4b54-f147-6d90dcb5b2a0"
      },
      "execution_count": null,
      "outputs": [
        {
          "output_type": "display_data",
          "data": {
            "text/plain": [
              "<Figure size 1000x600 with 1 Axes>"
            ],
            "image/png": "[encoded data removed]"
          },
          "metadata": {}
        }
      ]
    },
    {
      "cell_type": "markdown",
      "source": [
        "* **For categorical variable(s): Boxplot**"
      ],
      "metadata": {
        "id": "iZQ8d9-walxy"
      }
    },
    {
      "cell_type": "markdown",
      "source": [
        "*  **Univariate--->Boxplot**"
      ],
      "metadata": {
        "id": "Dmjmc7cabkaF"
      }
    },
    {
      "cell_type": "code",
      "source": [
        "plt.figure(figsize=(10, 6))\n",
        "sns.boxplot(data=df,x='Product_Category')\n",
        "plt.title('Boxplot of Product Category')\n",
        "plt.xlabel('Categories')\n",
        "plt.show()"
      ],
      "metadata": {
        "colab": {
          "base_uri": "https://localhost:8080/",
          "height": 564
        },
        "id": "KbpSHDPDbt6K",
        "outputId": "bdbcaedc-200e-4efa-efd7-d0c7a03c6bbc"
      },
      "execution_count": null,
      "outputs": [
        {
          "output_type": "display_data",
          "data": {
            "text/plain": [
              "<Figure size 1000x600 with 1 Axes>"
            ],
            "image/png": "[encoded data removed]"
          },
          "metadata": {}
        }
      ]
    },
    {
      "cell_type": "markdown",
      "source": [
        "* **Bivariate Analysis--->Boxplot**"
      ],
      "metadata": {
        "id": "MsQg8HvRdvh8"
      }
    },
    {
      "cell_type": "code",
      "source": [
        "plt.figure(figsize=(10,8))\n",
        "sns.boxplot(x=\"Purchase\", y=\"Gender\",data=df)\n",
        "plt.title(\"Boxplot of Purchase by Gender\")\n",
        "plt.xlabel(\"Purchased Amount\")\n",
        "plt.ylabel(\"Gender\")\n",
        "plt.show()"
      ],
      "metadata": {
        "colab": {
          "base_uri": "https://localhost:8080/",
          "height": 718
        },
        "id": "HA6uBiKzg2Ow",
        "outputId": "f47fbad0-7c89-447a-e165-912f425b2ff1"
      },
      "execution_count": null,
      "outputs": [
        {
          "output_type": "display_data",
          "data": {
            "text/plain": [
              "<Figure size 1000x800 with 1 Axes>"
            ],
            "image/png": "[encoded data removed]"
          },
          "metadata": {}
        }
      ]
    },
    {
      "cell_type": "markdown",
      "source": [
        "*  **Visual Analysis for correlation: Heatmaps, Pairplots**"
      ],
      "metadata": {
        "id": "yDDDWdg-ivUQ"
      }
    },
    {
      "cell_type": "markdown",
      "source": [
        "*  **Heatmaps**"
      ],
      "metadata": {
        "id": "5vAD7yOWi1ZH"
      }
    },
    {
      "cell_type": "code",
      "source": [
        "numerical_columns = ['Occupation','Marital_Status','Product_Category','Purchase']\n",
        "correlation_matrix = df[numerical_columns].corr()\n",
        "plt.figure(figsize=(10, 8))\n",
        "sns.heatmap(correlation_matrix, annot=True, cmap='magma')\n",
        "plt.title('Correlation Heatmap')\n",
        "plt.show()"
      ],
      "metadata": {
        "colab": {
          "base_uri": "https://localhost:8080/",
          "height": 699
        },
        "id": "uE2L1LpAi68o",
        "outputId": "237e56d4-a44d-482d-f9ac-db253c619e20"
      },
      "execution_count": null,
      "outputs": [
        {
          "output_type": "display_data",
          "data": {
            "text/plain": [
              "<Figure size 1000x800 with 2 Axes>"
            ],
            "image/png": "[encoded data removed]"
          },
          "metadata": {}
        }
      ]
    },
    {
      "cell_type": "markdown",
      "source": [
        "* **Pairplots**"
      ],
      "metadata": {
        "id": "4sufcexGlPuw"
      }
    },
    {
      "cell_type": "code",
      "source": [
        "numerical_column = 'Occupation'\n",
        "sns.pairplot(df,vars=[numerical_column],height=4)\n",
        "plt.title(\"Pairplot of Occupation in Walmart's dataset\")\n",
        "plt.show()"
      ],
      "metadata": {
        "colab": {
          "base_uri": "https://localhost:8080/",
          "height": 431
        },
        "id": "lFmmxjgPlUDQ",
        "outputId": "fbf32f47-f135-46b3-e62c-09ac4ab4c27e"
      },
      "execution_count": null,
      "outputs": [
        {
          "output_type": "display_data",
          "data": {
            "text/plain": [
              "<Figure size 400x400 with 2 Axes>"
            ],
            "image/png": "[encoded data removed]"
          },
          "metadata": {}
        }
      ]
    },
    {
      "cell_type": "markdown",
      "source": [
        "**2.Missing Value & Outlier Detection**"
      ],
      "metadata": {
        "id": "vwXCg-pZl69K"
      }
    },
    {
      "cell_type": "markdown",
      "source": [
        "*  **Missing Value**"
      ],
      "metadata": {
        "id": "kkpmVsYvmc9m"
      }
    },
    {
      "cell_type": "code",
      "source": [
        "Missing_value = df.isnull().sum()\n",
        "print(Missing_value)"
      ],
      "metadata": {
        "colab": {
          "base_uri": "https://localhost:8080/"
        },
        "id": "cbf9ad4omgu_",
        "outputId": "ac78bf14-0d0b-4ebf-cc47-2cb90f4f71d5"
      },
      "execution_count": null,
      "outputs": [
        {
          "output_type": "stream",
          "name": "stdout",
          "text": [
            "User_ID                       0\n",
            "Product_ID                    0\n",
            "Gender                        0\n",
            "Age                           0\n",
            "Occupation                    0\n",
            "City_Category                 0\n",
            "Stay_In_Current_City_Years    0\n",
            "Marital_Status                0\n",
            "Product_Category              0\n",
            "Purchase                      0\n",
            "dtype: int64\n"
          ]
        }
      ]
    },
    {
      "cell_type": "markdown",
      "source": [
        "*  **Insights for Missing Value**\n",
        "\n",
        "   **1.There were no missing values present in the Walmart dataset.**"
      ],
      "metadata": {
        "id": "tEv7HIylmxhh"
      }
    },
    {
      "cell_type": "markdown",
      "source": [
        "*  **Outlier Detection**"
      ],
      "metadata": {
        "id": "rVfVGaTonAD_"
      }
    },
    {
      "cell_type": "code",
      "source": [
        "Quant1 = df['Purchase'].quantile(0.25)\n",
        "Quant3 = df['Purchase'].quantile(0.75)\n",
        "IQR = Quant3 - Quant1\n",
        "lower_bound = Quant1 - 1.5 * IQR\n",
        "upper_bound = Quant3 + 1.5 * IQR\n",
        "outliers = (df['Purchase'] < lower_bound) | (df['Purchase'] > upper_bound)\n",
        "outlier_count = outliers.sum()\n",
        "print(f\"Number of outliers in Purchase : {outlier_count}\")"
      ],
      "metadata": {
        "colab": {
          "base_uri": "https://localhost:8080/"
        },
        "id": "I9WfRNmhnGHn",
        "outputId": "6b429423-6f28-4a2c-abb2-3b691e2def95"
      },
      "execution_count": null,
      "outputs": [
        {
          "output_type": "stream",
          "name": "stdout",
          "text": [
            "Number of outliers in Purchase : 2677\n"
          ]
        }
      ]
    },
    {
      "cell_type": "markdown",
      "source": [
        "* **Insights**\n",
        "\n",
        "  **1.There are 2677 outliers in purchase column**"
      ],
      "metadata": {
        "id": "pcQMaT0_pQaD"
      }
    },
    {
      "cell_type": "markdown",
      "source": [
        "**3.Business Insights based on Non- Graphical and Visual Analysis.**"
      ],
      "metadata": {
        "id": "GUEeb6dz0uKK"
      }
    },
    {
      "cell_type": "markdown",
      "source": [
        "*  **Comments on the range of attributes**"
      ],
      "metadata": {
        "id": "CKTp4dmk0336"
      }
    },
    {
      "cell_type": "code",
      "source": [
        "user_count = df['User_ID'].value_counts().head(5)\n",
        "user_count1=df['User_ID'].value_counts().tail(5)\n",
        "print(user_count)\n",
        "print(user_count1)"
      ],
      "metadata": {
        "colab": {
          "base_uri": "https://localhost:8080/"
        },
        "id": "bJ3KwDS_4HR9",
        "outputId": "e7a87971-9708-43ea-b083-a8060227f1d0"
      },
      "execution_count": null,
      "outputs": [
        {
          "output_type": "stream",
          "name": "stdout",
          "text": [
            "1001680    1026\n",
            "1004277     979\n",
            "1001941     898\n",
            "1001181     862\n",
            "1000889     823\n",
            "Name: User_ID, dtype: int64\n",
            "1002690    7\n",
            "1002111    7\n",
            "1005810    7\n",
            "1004991    7\n",
            "1000708    6\n",
            "Name: User_ID, dtype: int64\n"
          ]
        }
      ]
    },
    {
      "cell_type": "code",
      "source": [
        "product_id_count = df['Product_ID'].value_counts().head(5)\n",
        "product_id_count1 = df['Product_ID'].value_counts().tail(5)\n",
        "print(product_id_count)\n",
        "print(product_id_count1)"
      ],
      "metadata": {
        "colab": {
          "base_uri": "https://localhost:8080/"
        },
        "id": "Nu2QMB3S4MbQ",
        "outputId": "cdb2433f-3495-47ef-eaec-30d2076144e7"
      },
      "execution_count": null,
      "outputs": [
        {
          "output_type": "stream",
          "name": "stdout",
          "text": [
            "P00265242    1880\n",
            "P00025442    1615\n",
            "P00110742    1612\n",
            "P00112142    1562\n",
            "P00057642    1470\n",
            "Name: Product_ID, dtype: int64\n",
            "P00068742    1\n",
            "P00012342    1\n",
            "P00162742    1\n",
            "P00091742    1\n",
            "P00231642    1\n",
            "Name: Product_ID, dtype: int64\n"
          ]
        }
      ]
    },
    {
      "cell_type": "code",
      "source": [
        "gender_counts = df['Gender'].value_counts()\n",
        "print(gender_counts)"
      ],
      "metadata": {
        "colab": {
          "base_uri": "https://localhost:8080/"
        },
        "id": "p3S2M1vb3Pav",
        "outputId": "a350119f-1cc9-4aee-afac-699083732181"
      },
      "execution_count": null,
      "outputs": [
        {
          "output_type": "stream",
          "name": "stdout",
          "text": [
            "M    414259\n",
            "F    135809\n",
            "Name: Gender, dtype: int64\n"
          ]
        }
      ]
    },
    {
      "cell_type": "code",
      "source": [
        "age_wise_count = df['Age'].value_counts()\n",
        "print(age_wise_count)"
      ],
      "metadata": {
        "colab": {
          "base_uri": "https://localhost:8080/"
        },
        "id": "WnoDzMQ73u7K",
        "outputId": "6a98dbb1-a2fa-48b8-c765-b1080973d681"
      },
      "execution_count": null,
      "outputs": [
        {
          "output_type": "stream",
          "name": "stdout",
          "text": [
            "26-35    219587\n",
            "36-45    110013\n",
            "18-25     99660\n",
            "46-50     45701\n",
            "51-55     38501\n",
            "55+       21504\n",
            "0-17      15102\n",
            "Name: Age, dtype: int64\n"
          ]
        }
      ]
    },
    {
      "cell_type": "code",
      "source": [
        "occupation_count = df['Occupation'].value_counts().head(5)\n",
        "occupation_count1 = df['Occupation'].value_counts().tail(5)\n",
        "print(occupation_count)\n",
        "print(occupation_count1)"
      ],
      "metadata": {
        "colab": {
          "base_uri": "https://localhost:8080/"
        },
        "id": "WZeJft7r3v6M",
        "outputId": "c2771b51-b302-4785-9188-58848b1bf24b"
      },
      "execution_count": null,
      "outputs": [
        {
          "output_type": "stream",
          "name": "stdout",
          "text": [
            "4     72308\n",
            "0     69638\n",
            "7     59133\n",
            "1     47426\n",
            "17    40043\n",
            "Name: Occupation, dtype: int64\n",
            "19    8461\n",
            "13    7728\n",
            "18    6622\n",
            "9     6291\n",
            "8     1546\n",
            "Name: Occupation, dtype: int64\n"
          ]
        }
      ]
    },
    {
      "cell_type": "code",
      "source": [
        "city_category_count = df['City_Category'].value_counts()\n",
        "print(city_category_count)"
      ],
      "metadata": {
        "colab": {
          "base_uri": "https://localhost:8080/"
        },
        "id": "En9XxV3k3y_X",
        "outputId": "70cd30ec-e6b9-4031-c537-9a43c3c22009"
      },
      "execution_count": null,
      "outputs": [
        {
          "output_type": "stream",
          "name": "stdout",
          "text": [
            "B    231173\n",
            "C    171175\n",
            "A    147720\n",
            "Name: City_Category, dtype: int64\n"
          ]
        }
      ]
    },
    {
      "cell_type": "code",
      "source": [
        "stay_count = df['Stay_In_Current_City_Years'].value_counts()\n",
        "print(stay_count)"
      ],
      "metadata": {
        "colab": {
          "base_uri": "https://localhost:8080/"
        },
        "id": "h7Tm9Feo30la",
        "outputId": "598b0543-e9e0-488b-c6ea-7f117b1db9a6"
      },
      "execution_count": null,
      "outputs": [
        {
          "output_type": "stream",
          "name": "stdout",
          "text": [
            "1     193821\n",
            "2     101838\n",
            "3      95285\n",
            "4+     84726\n",
            "0      74398\n",
            "Name: Stay_In_Current_City_Years, dtype: int64\n"
          ]
        }
      ]
    },
    {
      "cell_type": "code",
      "source": [
        "marital_status_count = round(df['Marital_Status'].value_counts(normalize=True)*100,2)\n",
        "print(marital_status_count)"
      ],
      "metadata": {
        "colab": {
          "base_uri": "https://localhost:8080/"
        },
        "id": "3Dl9LBC336uw",
        "outputId": "b8f65ea5-0240-4eec-cd21-9d337ee20e76"
      },
      "execution_count": null,
      "outputs": [
        {
          "output_type": "stream",
          "name": "stdout",
          "text": [
            "0    59.03\n",
            "1    40.97\n",
            "Name: Marital_Status, dtype: float64\n"
          ]
        }
      ]
    },
    {
      "cell_type": "code",
      "source": [
        "total_purchase = df.groupby('Product_Category')['Purchase'].sum().head(5)\n",
        "total_purchase1 = df.groupby('Product_Category')['Purchase'].sum().tail(5)\n",
        "print(total_purchase)\n",
        "print(total_purchase1)"
      ],
      "metadata": {
        "colab": {
          "base_uri": "https://localhost:8080/"
        },
        "id": "_KVZUtkW5L3v",
        "outputId": "8db4b1c7-a8fb-4a24-a7cf-66541e388b5d"
      },
      "execution_count": null,
      "outputs": [
        {
          "output_type": "stream",
          "name": "stdout",
          "text": [
            "Product_Category\n",
            "1    1910013754\n",
            "2     268516186\n",
            "3     204084713\n",
            "4      27380488\n",
            "5     941835229\n",
            "Name: Purchase, dtype: int64\n",
            "Product_Category\n",
            "16    145120612\n",
            "17      5878699\n",
            "18      9290201\n",
            "19        59378\n",
            "20       944727\n",
            "Name: Purchase, dtype: int64\n"
          ]
        }
      ]
    },
    {
      "cell_type": "code",
      "source": [
        "total_purchase = df['Purchase'].sum()\n",
        "avg_purchase = df['Purchase'].mean()\n",
        "max_purchase = df['Purchase'].max()\n",
        "min_purchase = df['Purchase'].min()\n",
        "print(f\"Total purchase :  {total_purchase}\")\n",
        "print(f\"Average purchase : {avg_purchase}\")\n",
        "print(f\"Maximum purchase : {max_purchase}\")\n",
        "print(f\"Minimum purchase :{min_purchase}\")"
      ],
      "metadata": {
        "colab": {
          "base_uri": "https://localhost:8080/"
        },
        "id": "4UlV9GK759oY",
        "outputId": "af1664be-fd62-4c66-aff9-782616a483a9"
      },
      "execution_count": null,
      "outputs": [
        {
          "output_type": "stream",
          "name": "stdout",
          "text": [
            "Total purchase :  5095812742\n",
            "Average purchase : 9263.968712959126\n",
            "Maximum purchase : 23961\n",
            "Minimum purchase :12\n"
          ]
        }
      ]
    },
    {
      "cell_type": "markdown",
      "source": [
        "*  **Business Insights for range of attributes**\n",
        "\n",
        "     **1.The user_id 1001680 has purchased 1026 times in walmart's store and the user_id with 1000708 has lowest purchase of 6.**\n",
        "\n",
        "     **2.The product_id P00265242 has purchased by user 1880 times but the product_id P00231642 has purchased only one time by the user.**\n",
        "\n",
        "     **3.There are 414259 Males and 135809 Females purchased in walmart's store.**\n",
        "\n",
        "     **4.There were 219587 user in the age group between 26-35 which is higher when compared to the age groups of 55+ which has total user of 21504 and the age group of 0-17 has total user 15102**\n",
        "\n",
        "     **5.The occupation of mask 4 has 72308 users in walmart store and the occupation of mask 8 has 1546 users**\n",
        "\n",
        "     **6.The city category of B has 231173 total users followed by city category C (171175) and city category A (147720).**\n",
        "\n",
        "     **7.There were 193821 users stay in current city for 1 years and for 0 years 74398 users were stayed in current city.**\n",
        "\n",
        "     **8.Around 59.03 of the users were unmarried and 40.97 users were married.**\n",
        "\n",
        "     **9.The product_category 1 purchased for the amount of 1910013754 which is the highest sold product_category in the store and the product_category 19 was least purchased category for the amount of 59378.**\n",
        "\n",
        "     **10.The Total purchased amount was 5095812742 and the Maximum purchased amount was 23961 and the Minimum purchased amount was 12.**"
      ],
      "metadata": {
        "id": "doax5poC7A91"
      }
    },
    {
      "cell_type": "markdown",
      "source": [
        "* **Comments on the distribution of the variables and relationship between them**"
      ],
      "metadata": {
        "id": "jVgfapMbCGpy"
      }
    },
    {
      "cell_type": "markdown",
      "source": [
        "*  **Distribution of the variables For Numeric attributes**"
      ],
      "metadata": {
        "id": "OpINFCQhCYan"
      }
    },
    {
      "cell_type": "code",
      "source": [
        "numeric_col = ['Product_Category','Purchase','Occupation']\n",
        "\n",
        "for col in numeric_col:\n",
        "    plt.figure(figsize=(7,4))\n",
        "    sns.histplot(data=df, x=col,bins=20,kde=True)\n",
        "    plt.title(f'Distribution of {col}')\n",
        "    plt.xlabel(col)\n",
        "    plt.ylabel('Users')\n",
        "    plt.gca().get_xaxis().set_major_formatter(plt.FuncFormatter(lambda x, loc: \"{:,}\".format(int(x))))\n",
        "    plt.tight_layout()\n",
        "    plt.show()"
      ],
      "metadata": {
        "colab": {
          "base_uri": "https://localhost:8080/",
          "height": 1000
        },
        "id": "NPmwesUrAAtJ",
        "outputId": "22e265f1-9713-4a48-e085-3f423690ebab"
      },
      "execution_count": null,
      "outputs": [
        {
          "output_type": "display_data",
          "data": {
            "text/plain": [
              "<Figure size 700x400 with 1 Axes>"
            ],
            "image/png": "[encoded data removed]"
          },
          "metadata": {}
        },
        {
          "output_type": "display_data",
          "data": {
            "text/plain": [
              "<Figure size 700x400 with 1 Axes>"
            ],
            "image/png": "[encoded data removed]"
          },
          "metadata": {}
        },
        {
          "output_type": "display_data",
          "data": {
            "text/plain": [
              "<Figure size 700x400 with 1 Axes>"
            ],
            "image/png": "[encoded data removed]"
          },
          "metadata": {}
        }
      ]
    },
    {
      "cell_type": "markdown",
      "source": [
        "*  **Business Insights on the distribution of the variables-->Numeric attributes**\n",
        "\n",
        "     * **The product categories 1, 5, and 8 have more customers than the rest of the product categories.**\n",
        "     \n",
        "     * **From product category 11 onwards, there were very few user purchases in those categories.**\n",
        "     \n",
        "     * **The highest purchased product category by users was category 5, with over 200,000 users purchasing products in that category.**\n",
        "     \n",
        "     * **Most of the purchase amounts made by users fall in the range of 4,000 to 10,000.**\n",
        "\n",
        "     * **Approximately 750,000 users made purchases within the 6,000 to 7,000 range, while the least purchased amount by users was in the range of 23,000 to 24,000.**\n",
        "\n",
        "     * **The highest number occupation fall under the category of 4, with over 70,000 followed by category 0 and category 7.**\n",
        "     \n",
        "     * **The least represented occupation was category 8 with less than 5000 users**"
      ],
      "metadata": {
        "id": "M0TZ_Nf4Dn9b"
      }
    },
    {
      "cell_type": "markdown",
      "source": [
        "*  **Distribution of the variables For Categorical attributes**"
      ],
      "metadata": {
        "id": "onEmsLWBDcFk"
      }
    },
    {
      "cell_type": "code",
      "source": [
        "categorical_col = ['Gender','Age','City_Category']\n",
        "\n",
        "for col in categorical_col:\n",
        "    plt.figure(figsize=(5, 3))\n",
        "    sns.countplot(data=df, x=col)\n",
        "    plt.title(f'Distribution of {col}')\n",
        "    plt.xlabel(col)\n",
        "    plt.ylabel('Users')\n",
        "    plt.tight_layout()\n",
        "    plt.show()"
      ],
      "metadata": {
        "colab": {
          "base_uri": "https://localhost:8080/",
          "height": 887
        },
        "id": "z5RHpprzDqxW",
        "outputId": "7f5afa12-a389-4a75-b15c-e5769bff3ab8"
      },
      "execution_count": null,
      "outputs": [
        {
          "output_type": "display_data",
          "data": {
            "text/plain": [
              "<Figure size 500x300 with 1 Axes>"
            ],
            "image/png": "[encoded data removed]"
          },
          "metadata": {}
        },
        {
          "output_type": "display_data",
          "data": {
            "text/plain": [
              "<Figure size 500x300 with 1 Axes>"
            ],
            "image/png": "[encoded data removed]"
          },
          "metadata": {}
        },
        {
          "output_type": "display_data",
          "data": {
            "text/plain": [
              "<Figure size 500x300 with 1 Axes>"
            ],
            "image/png": "[encoded data removed]"
          },
          "metadata": {}
        }
      ]
    },
    {
      "cell_type": "markdown",
      "source": [
        "*  **Business Insights on the distribution of the variables-->Categorical attributes**\n",
        "\n",
        "   * **There are more male users, accounting for over 400,000, while the number of female users falls in the range of 130,000 to 150,000.**\n",
        "\n",
        "   * **The age group between 26 to 35 has the highest number of users, exceeding 200,000.**\n",
        "   \n",
        "   * **while the age groups between 18 to 25 and 36 to 45 each have slightly fewer than 100,000 and above 100,000 users, respectively.**\n",
        "\n",
        "   * **In terms of city categories, Category B has the most users, totaling above 200,000.**\n",
        "   \n",
        "   * **It is followed by the second-highest user count in Category B, which falls between 150,000 and 170,000.**\n",
        "   \n"
      ],
      "metadata": {
        "id": "9KjMqnouEren"
      }
    },
    {
      "cell_type": "markdown",
      "source": [
        "*  **Comments on Relationship between them**"
      ],
      "metadata": {
        "id": "8T6eySasEsR0"
      }
    },
    {
      "cell_type": "code",
      "source": [
        "product_gender = pd.crosstab(df['Gender'], df['Purchase'])\n",
        "product_gender"
      ],
      "metadata": {
        "colab": {
          "base_uri": "https://localhost:8080/",
          "height": 173
        },
        "id": "THdL6DcVE4Co",
        "outputId": "5f70f7f4-e731-4807-db36-0070b4719843"
      },
      "execution_count": null,
      "outputs": [
        {
          "output_type": "execute_result",
          "data": {
            "text/plain": [
              "Purchase  12     13     14     24     25     26     36     37     38     \\\n",
              "Gender                                                                    \n",
              "F            27     25     30     28     30     27     36     31     34   \n",
              "M            74     81     65     90     83     85     71     79     80   \n",
              "\n",
              "Purchase  48     ...  23951  23952  23953  23954  23955  23956  23958  23959  \\\n",
              "Gender           ...                                                           \n",
              "F            33  ...      1      0      0      0      1      0      0      1   \n",
              "M            75  ...      0      1      2      2      2      1      4      1   \n",
              "\n",
              "Purchase  23960  23961  \n",
              "Gender                  \n",
              "F             0      0  \n",
              "M             4      3  \n",
              "\n",
              "[2 rows x 18105 columns]"
            ],
            "text/html": [
              "\n",
              "  <div id=\"df-6073e721-0848-482e-b5a6-07b44200bff7\" class=\"colab-df-container\">\n",
              "    <div>\n",
              "<style scoped>\n",
              "    .dataframe tbody tr th:only-of-type {\n",
              "        vertical-align: middle;\n",
              "    }\n",
              "\n",
              "    .dataframe tbody tr th {\n",
              "        vertical-align: top;\n",
              "    }\n",
              "\n",
              "    .dataframe thead th {\n",
              "        text-align: right;\n",
              "    }\n",
              "</style>\n",
              "<table border=\"1\" class=\"dataframe\">\n",
              "  <thead>\n",
              "    <tr style=\"text-align: right;\">\n",
              "      <th>Purchase</th>\n",
              "      <th>12</th>\n",
              "      <th>13</th>\n",
              "      <th>14</th>\n",
              "      <th>24</th>\n",
              "      <th>25</th>\n",
              "      <th>26</th>\n",
              "      <th>36</th>\n",
              "      <th>37</th>\n",
              "      <th>38</th>\n",
              "      <th>48</th>\n",
              "      <th>...</th>\n",
              "      <th>23951</th>\n",
              "      <th>23952</th>\n",
              "      <th>23953</th>\n",
              "      <th>23954</th>\n",
              "      <th>23955</th>\n",
              "      <th>23956</th>\n",
              "      <th>23958</th>\n",
              "      <th>23959</th>\n",
              "      <th>23960</th>\n",
              "      <th>23961</th>\n",
              "    </tr>\n",
              "    <tr>\n",
              "      <th>Gender</th>\n",
              "      <th></th>\n",
              "      <th></th>\n",
              "      <th></th>\n",
              "      <th></th>\n",
              "      <th></th>\n",
              "      <th></th>\n",
              "      <th></th>\n",
              "      <th></th>\n",
              "      <th></th>\n",
              "      <th></th>\n",
              "      <th></th>\n",
              "      <th></th>\n",
              "      <th></th>\n",
              "      <th></th>\n",
              "      <th></th>\n",
              "      <th></th>\n",
              "      <th></th>\n",
              "      <th></th>\n",
              "      <th></th>\n",
              "      <th></th>\n",
              "      <th></th>\n",
              "    </tr>\n",
              "  </thead>\n",
              "  <tbody>\n",
              "    <tr>\n",
              "      <th>F</th>\n",
              "      <td>27</td>\n",
              "      <td>25</td>\n",
              "      <td>30</td>\n",
              "      <td>28</td>\n",
              "      <td>30</td>\n",
              "      <td>27</td>\n",
              "      <td>36</td>\n",
              "      <td>31</td>\n",
              "      <td>34</td>\n",
              "      <td>33</td>\n",
              "      <td>...</td>\n",
              "      <td>1</td>\n",
              "      <td>0</td>\n",
              "      <td>0</td>\n",
              "      <td>0</td>\n",
              "      <td>1</td>\n",
              "      <td>0</td>\n",
              "      <td>0</td>\n",
              "      <td>1</td>\n",
              "      <td>0</td>\n",
              "      <td>0</td>\n",
              "    </tr>\n",
              "    <tr>\n",
              "      <th>M</th>\n",
              "      <td>74</td>\n",
              "      <td>81</td>\n",
              "      <td>65</td>\n",
              "      <td>90</td>\n",
              "      <td>83</td>\n",
              "      <td>85</td>\n",
              "      <td>71</td>\n",
              "      <td>79</td>\n",
              "      <td>80</td>\n",
              "      <td>75</td>\n",
              "      <td>...</td>\n",
              "      <td>0</td>\n",
              "      <td>1</td>\n",
              "      <td>2</td>\n",
              "      <td>2</td>\n",
              "      <td>2</td>\n",
              "      <td>1</td>\n",
              "      <td>4</td>\n",
              "      <td>1</td>\n",
              "      <td>4</td>\n",
              "      <td>3</td>\n",
              "    </tr>\n",
              "  </tbody>\n",
              "</table>\n",
              "<p>2 rows × 18105 columns</p>\n",
              "</div>\n",
              "    <div class=\"colab-df-buttons\">\n",
              "\n",
              "  <div class=\"colab-df-container\">\n",
              "    <button class=\"colab-df-convert\" onclick=\"convertToInteractive('df-6073e721-0848-482e-b5a6-07b44200bff7')\"\n",
              "            title=\"Convert this dataframe to an interactive table.\"\n",
              "            style=\"display:none;\">\n",
              "\n",
              "  <svg xmlns=\"http://www.w3.org/2000/svg\" height=\"24px\" viewBox=\"0 -960 960 960\">\n",
              "    <path d=\"M120-120v-720h720v720H120Zm60-500h600v-160H180v160Zm220 220h160v-160H400v160Zm0 220h160v-160H400v160ZM180-400h160v-160H180v160Zm440 0h160v-160H620v160ZM180-180h160v-160H180v160Zm440 0h160v-160H620v160Z\"/>\n",
              "  </svg>\n",
              "    </button>\n",
              "\n",
              "  <style>\n",
              "    .colab-df-container {\n",
              "      display:flex;\n",
              "      gap: 12px;\n",
              "    }\n",
              "\n",
              "    .colab-df-convert {\n",
              "      background-color: #E8F0FE;\n",
              "      border: none;\n",
              "      border-radius: 50%;\n",
              "      cursor: pointer;\n",
              "      display: none;\n",
              "      fill: #1967D2;\n",
              "      height: 32px;\n",
              "      padding: 0 0 0 0;\n",
              "      width: 32px;\n",
              "    }\n",
              "\n",
              "    .colab-df-convert:hover {\n",
              "      background-color: #E2EBFA;\n",
              "      box-shadow: 0px 1px 2px rgba(60, 64, 67, 0.3), 0px 1px 3px 1px rgba(60, 64, 67, 0.15);\n",
              "      fill: #174EA6;\n",
              "    }\n",
              "\n",
              "    .colab-df-buttons div {\n",
              "      margin-bottom: 4px;\n",
              "    }\n",
              "\n",
              "    [theme=dark] .colab-df-convert {\n",
              "      background-color: #3B4455;\n",
              "      fill: #D2E3FC;\n",
              "    }\n",
              "\n",
              "    [theme=dark] .colab-df-convert:hover {\n",
              "      background-color: #434B5C;\n",
              "      box-shadow: 0px 1px 3px 1px rgba(0, 0, 0, 0.15);\n",
              "      filter: drop-shadow(0px 1px 2px rgba(0, 0, 0, 0.3));\n",
              "      fill: #FFFFFF;\n",
              "    }\n",
              "  </style>\n",
              "\n",
              "    <script>\n",
              "      const buttonEl =\n",
              "        document.querySelector('#df-6073e721-0848-482e-b5a6-07b44200bff7 button.colab-df-convert');\n",
              "      buttonEl.style.display =\n",
              "        google.colab.kernel.accessAllowed ? 'block' : 'none';\n",
              "\n",
              "      async function convertToInteractive(key) {\n",
              "        const element = document.querySelector('#df-6073e721-0848-482e-b5a6-07b44200bff7');\n",
              "        const dataTable =\n",
              "          await google.colab.kernel.invokeFunction('convertToInteractive',\n",
              "                                                    [key], {});\n",
              "        if (!dataTable) return;\n",
              "\n",
              "        const docLinkHtml = 'Like what you see? Visit the ' +\n",
              "          '<a target=\"_blank\" href=https://colab.research.google.com/notebooks/data_table.ipynb>data table notebook</a>'\n",
              "          + ' to learn more about interactive tables.';\n",
              "        element.innerHTML = '';\n",
              "        dataTable['output_type'] = 'display_data';\n",
              "        await google.colab.output.renderOutput(dataTable, element);\n",
              "        const docLink = document.createElement('div');\n",
              "        docLink.innerHTML = docLinkHtml;\n",
              "        element.appendChild(docLink);\n",
              "      }\n",
              "    </script>\n",
              "  </div>\n",
              "\n",
              "\n",
              "<div id=\"df-2f380629-07c9-445c-8cc2-3dbad40eb51b\">\n",
              "  <button class=\"colab-df-quickchart\" onclick=\"quickchart('df-2f380629-07c9-445c-8cc2-3dbad40eb51b')\"\n",
              "            title=\"Suggest charts.\"\n",
              "            style=\"display:none;\">\n",
              "\n",
              "<svg xmlns=\"http://www.w3.org/2000/svg\" height=\"24px\"viewBox=\"0 0 24 24\"\n",
              "     width=\"24px\">\n",
              "    <g>\n",
              "        <path d=\"M19 3H5c-1.1 0-2 .9-2 2v14c0 1.1.9 2 2 2h14c1.1 0 2-.9 2-2V5c0-1.1-.9-2-2-2zM9 17H7v-7h2v7zm4 0h-2V7h2v10zm4 0h-2v-4h2v4z\"/>\n",
              "    </g>\n",
              "</svg>\n",
              "  </button>\n",
              "\n",
              "<style>\n",
              "  .colab-df-quickchart {\n",
              "      --bg-color: #E8F0FE;\n",
              "      --fill-color: #1967D2;\n",
              "      --hover-bg-color: #E2EBFA;\n",
              "      --hover-fill-color: #174EA6;\n",
              "      --disabled-fill-color: #AAA;\n",
              "      --disabled-bg-color: #DDD;\n",
              "  }\n",
              "\n",
              "  [theme=dark] .colab-df-quickchart {\n",
              "      --bg-color: #3B4455;\n",
              "      --fill-color: #D2E3FC;\n",
              "      --hover-bg-color: #434B5C;\n",
              "      --hover-fill-color: #FFFFFF;\n",
              "      --disabled-bg-color: #3B4455;\n",
              "      --disabled-fill-color: #666;\n",
              "  }\n",
              "\n",
              "  .colab-df-quickchart {\n",
              "    background-color: var(--bg-color);\n",
              "    border: none;\n",
              "    border-radius: 50%;\n",
              "    cursor: pointer;\n",
              "    display: none;\n",
              "    fill: var(--fill-color);\n",
              "    height: 32px;\n",
              "    padding: 0;\n",
              "    width: 32px;\n",
              "  }\n",
              "\n",
              "  .colab-df-quickchart:hover {\n",
              "    background-color: var(--hover-bg-color);\n",
              "    box-shadow: 0 1px 2px rgba(60, 64, 67, 0.3), 0 1px 3px 1px rgba(60, 64, 67, 0.15);\n",
              "    fill: var(--button-hover-fill-color);\n",
              "  }\n",
              "\n",
              "  .colab-df-quickchart-complete:disabled,\n",
              "  .colab-df-quickchart-complete:disabled:hover {\n",
              "    background-color: var(--disabled-bg-color);\n",
              "    fill: var(--disabled-fill-color);\n",
              "    box-shadow: none;\n",
              "  }\n",
              "\n",
              "  .colab-df-spinner {\n",
              "    border: 2px solid var(--fill-color);\n",
              "    border-color: transparent;\n",
              "    border-bottom-color: var(--fill-color);\n",
              "    animation:\n",
              "      spin 1s steps(1) infinite;\n",
              "  }\n",
              "\n",
              "  @keyframes spin {\n",
              "    0% {\n",
              "      border-color: transparent;\n",
              "      border-bottom-color: var(--fill-color);\n",
              "      border-left-color: var(--fill-color);\n",
              "    }\n",
              "    20% {\n",
              "      border-color: transparent;\n",
              "      border-left-color: var(--fill-color);\n",
              "      border-top-color: var(--fill-color);\n",
              "    }\n",
              "    30% {\n",
              "      border-color: transparent;\n",
              "      border-left-color: var(--fill-color);\n",
              "      border-top-color: var(--fill-color);\n",
              "      border-right-color: var(--fill-color);\n",
              "    }\n",
              "    40% {\n",
              "      border-color: transparent;\n",
              "      border-right-color: var(--fill-color);\n",
              "      border-top-color: var(--fill-color);\n",
              "    }\n",
              "    60% {\n",
              "      border-color: transparent;\n",
              "      border-right-color: var(--fill-color);\n",
              "    }\n",
              "    80% {\n",
              "      border-color: transparent;\n",
              "      border-right-color: var(--fill-color);\n",
              "      border-bottom-color: var(--fill-color);\n",
              "    }\n",
              "    90% {\n",
              "      border-color: transparent;\n",
              "      border-bottom-color: var(--fill-color);\n",
              "    }\n",
              "  }\n",
              "</style>\n",
              "\n",
              "  <script>\n",
              "    async function quickchart(key) {\n",
              "      const quickchartButtonEl =\n",
              "        document.querySelector('#' + key + ' button');\n",
              "      quickchartButtonEl.disabled = true;  // To prevent multiple clicks.\n",
              "      quickchartButtonEl.classList.add('colab-df-spinner');\n",
              "      try {\n",
              "        const charts = await google.colab.kernel.invokeFunction(\n",
              "            'suggestCharts', [key], {});\n",
              "      } catch (error) {\n",
              "        console.error('Error during call to suggestCharts:', error);\n",
              "      }\n",
              "      quickchartButtonEl.classList.remove('colab-df-spinner');\n",
              "      quickchartButtonEl.classList.add('colab-df-quickchart-complete');\n",
              "    }\n",
              "    (() => {\n",
              "      let quickchartButtonEl =\n",
              "        document.querySelector('#df-2f380629-07c9-445c-8cc2-3dbad40eb51b button');\n",
              "      quickchartButtonEl.style.display =\n",
              "        google.colab.kernel.accessAllowed ? 'block' : 'none';\n",
              "    })();\n",
              "  </script>\n",
              "</div>\n",
              "    </div>\n",
              "  </div>\n"
            ]
          },
          "metadata": {},
          "execution_count": 513
        }
      ]
    },
    {
      "cell_type": "code",
      "source": [
        "product_gender = pd.crosstab(df['Gender'], df['Product_Category'])\n",
        "product_gender"
      ],
      "metadata": {
        "colab": {
          "base_uri": "https://localhost:8080/",
          "height": 143
        },
        "id": "TY3HbEJxFWZT",
        "outputId": "0418bf5f-2098-4acd-d8bc-b8a19ae40d02"
      },
      "execution_count": null,
      "outputs": [
        {
          "output_type": "execute_result",
          "data": {
            "text/plain": [
              "Product_Category      1      2      3     4       5      6     7      8    9   \\\n",
              "Gender                                                                          \n",
              "F                  24831   5658   6006  3639   41961   4559   943  33558   70   \n",
              "M                 115547  18206  14207  8114  108972  15907  2778  80367  340   \n",
              "\n",
              "Product_Category    10     11    12    13   14    15    16   17    18    19  \\\n",
              "Gender                                                                        \n",
              "F                 1162   4739  1532  1462  623  1046  2402   62   382   451   \n",
              "M                 3963  19548  2415  4087  900  5244  7426  516  2743  1152   \n",
              "\n",
              "Product_Category    20  \n",
              "Gender                  \n",
              "F                  723  \n",
              "M                 1827  "
            ],
            "text/html": [
              "\n",
              "  <div id=\"df-dca689cb-a629-4f7b-9614-5ad33ceef819\" class=\"colab-df-container\">\n",
              "    <div>\n",
              "<style scoped>\n",
              "    .dataframe tbody tr th:only-of-type {\n",
              "        vertical-align: middle;\n",
              "    }\n",
              "\n",
              "    .dataframe tbody tr th {\n",
              "        vertical-align: top;\n",
              "    }\n",
              "\n",
              "    .dataframe thead th {\n",
              "        text-align: right;\n",
              "    }\n",
              "</style>\n",
              "<table border=\"1\" class=\"dataframe\">\n",
              "  <thead>\n",
              "    <tr style=\"text-align: right;\">\n",
              "      <th>Product_Category</th>\n",
              "      <th>1</th>\n",
              "      <th>2</th>\n",
              "      <th>3</th>\n",
              "      <th>4</th>\n",
              "      <th>5</th>\n",
              "      <th>6</th>\n",
              "      <th>7</th>\n",
              "      <th>8</th>\n",
              "      <th>9</th>\n",
              "      <th>10</th>\n",
              "      <th>11</th>\n",
              "      <th>12</th>\n",
              "      <th>13</th>\n",
              "      <th>14</th>\n",
              "      <th>15</th>\n",
              "      <th>16</th>\n",
              "      <th>17</th>\n",
              "      <th>18</th>\n",
              "      <th>19</th>\n",
              "      <th>20</th>\n",
              "    </tr>\n",
              "    <tr>\n",
              "      <th>Gender</th>\n",
              "      <th></th>\n",
              "      <th></th>\n",
              "      <th></th>\n",
              "      <th></th>\n",
              "      <th></th>\n",
              "      <th></th>\n",
              "      <th></th>\n",
              "      <th></th>\n",
              "      <th></th>\n",
              "      <th></th>\n",
              "      <th></th>\n",
              "      <th></th>\n",
              "      <th></th>\n",
              "      <th></th>\n",
              "      <th></th>\n",
              "      <th></th>\n",
              "      <th></th>\n",
              "      <th></th>\n",
              "      <th></th>\n",
              "      <th></th>\n",
              "    </tr>\n",
              "  </thead>\n",
              "  <tbody>\n",
              "    <tr>\n",
              "      <th>F</th>\n",
              "      <td>24831</td>\n",
              "      <td>5658</td>\n",
              "      <td>6006</td>\n",
              "      <td>3639</td>\n",
              "      <td>41961</td>\n",
              "      <td>4559</td>\n",
              "      <td>943</td>\n",
              "      <td>33558</td>\n",
              "      <td>70</td>\n",
              "      <td>1162</td>\n",
              "      <td>4739</td>\n",
              "      <td>1532</td>\n",
              "      <td>1462</td>\n",
              "      <td>623</td>\n",
              "      <td>1046</td>\n",
              "      <td>2402</td>\n",
              "      <td>62</td>\n",
              "      <td>382</td>\n",
              "      <td>451</td>\n",
              "      <td>723</td>\n",
              "    </tr>\n",
              "    <tr>\n",
              "      <th>M</th>\n",
              "      <td>115547</td>\n",
              "      <td>18206</td>\n",
              "      <td>14207</td>\n",
              "      <td>8114</td>\n",
              "      <td>108972</td>\n",
              "      <td>15907</td>\n",
              "      <td>2778</td>\n",
              "      <td>80367</td>\n",
              "      <td>340</td>\n",
              "      <td>3963</td>\n",
              "      <td>19548</td>\n",
              "      <td>2415</td>\n",
              "      <td>4087</td>\n",
              "      <td>900</td>\n",
              "      <td>5244</td>\n",
              "      <td>7426</td>\n",
              "      <td>516</td>\n",
              "      <td>2743</td>\n",
              "      <td>1152</td>\n",
              "      <td>1827</td>\n",
              "    </tr>\n",
              "  </tbody>\n",
              "</table>\n",
              "</div>\n",
              "    <div class=\"colab-df-buttons\">\n",
              "\n",
              "  <div class=\"colab-df-container\">\n",
              "    <button class=\"colab-df-convert\" onclick=\"convertToInteractive('df-dca689cb-a629-4f7b-9614-5ad33ceef819')\"\n",
              "            title=\"Convert this dataframe to an interactive table.\"\n",
              "            style=\"display:none;\">\n",
              "\n",
              "  <svg xmlns=\"http://www.w3.org/2000/svg\" height=\"24px\" viewBox=\"0 -960 960 960\">\n",
              "    <path d=\"M120-120v-720h720v720H120Zm60-500h600v-160H180v160Zm220 220h160v-160H400v160Zm0 220h160v-160H400v160ZM180-400h160v-160H180v160Zm440 0h160v-160H620v160ZM180-180h160v-160H180v160Zm440 0h160v-160H620v160Z\"/>\n",
              "  </svg>\n",
              "    </button>\n",
              "\n",
              "  <style>\n",
              "    .colab-df-container {\n",
              "      display:flex;\n",
              "      gap: 12px;\n",
              "    }\n",
              "\n",
              "    .colab-df-convert {\n",
              "      background-color: #E8F0FE;\n",
              "      border: none;\n",
              "      border-radius: 50%;\n",
              "      cursor: pointer;\n",
              "      display: none;\n",
              "      fill: #1967D2;\n",
              "      height: 32px;\n",
              "      padding: 0 0 0 0;\n",
              "      width: 32px;\n",
              "    }\n",
              "\n",
              "    .colab-df-convert:hover {\n",
              "      background-color: #E2EBFA;\n",
              "      box-shadow: 0px 1px 2px rgba(60, 64, 67, 0.3), 0px 1px 3px 1px rgba(60, 64, 67, 0.15);\n",
              "      fill: #174EA6;\n",
              "    }\n",
              "\n",
              "    .colab-df-buttons div {\n",
              "      margin-bottom: 4px;\n",
              "    }\n",
              "\n",
              "    [theme=dark] .colab-df-convert {\n",
              "      background-color: #3B4455;\n",
              "      fill: #D2E3FC;\n",
              "    }\n",
              "\n",
              "    [theme=dark] .colab-df-convert:hover {\n",
              "      background-color: #434B5C;\n",
              "      box-shadow: 0px 1px 3px 1px rgba(0, 0, 0, 0.15);\n",
              "      filter: drop-shadow(0px 1px 2px rgba(0, 0, 0, 0.3));\n",
              "      fill: #FFFFFF;\n",
              "    }\n",
              "  </style>\n",
              "\n",
              "    <script>\n",
              "      const buttonEl =\n",
              "        document.querySelector('#df-dca689cb-a629-4f7b-9614-5ad33ceef819 button.colab-df-convert');\n",
              "      buttonEl.style.display =\n",
              "        google.colab.kernel.accessAllowed ? 'block' : 'none';\n",
              "\n",
              "      async function convertToInteractive(key) {\n",
              "        const element = document.querySelector('#df-dca689cb-a629-4f7b-9614-5ad33ceef819');\n",
              "        const dataTable =\n",
              "          await google.colab.kernel.invokeFunction('convertToInteractive',\n",
              "                                                    [key], {});\n",
              "        if (!dataTable) return;\n",
              "\n",
              "        const docLinkHtml = 'Like what you see? Visit the ' +\n",
              "          '<a target=\"_blank\" href=https://colab.research.google.com/notebooks/data_table.ipynb>data table notebook</a>'\n",
              "          + ' to learn more about interactive tables.';\n",
              "        element.innerHTML = '';\n",
              "        dataTable['output_type'] = 'display_data';\n",
              "        await google.colab.output.renderOutput(dataTable, element);\n",
              "        const docLink = document.createElement('div');\n",
              "        docLink.innerHTML = docLinkHtml;\n",
              "        element.appendChild(docLink);\n",
              "      }\n",
              "    </script>\n",
              "  </div>\n",
              "\n",
              "\n",
              "<div id=\"df-2ed84c32-1bb5-47ed-84d2-71c0edbcac5a\">\n",
              "  <button class=\"colab-df-quickchart\" onclick=\"quickchart('df-2ed84c32-1bb5-47ed-84d2-71c0edbcac5a')\"\n",
              "            title=\"Suggest charts.\"\n",
              "            style=\"display:none;\">\n",
              "\n",
              "<svg xmlns=\"http://www.w3.org/2000/svg\" height=\"24px\"viewBox=\"0 0 24 24\"\n",
              "     width=\"24px\">\n",
              "    <g>\n",
              "        <path d=\"M19 3H5c-1.1 0-2 .9-2 2v14c0 1.1.9 2 2 2h14c1.1 0 2-.9 2-2V5c0-1.1-.9-2-2-2zM9 17H7v-7h2v7zm4 0h-2V7h2v10zm4 0h-2v-4h2v4z\"/>\n",
              "    </g>\n",
              "</svg>\n",
              "  </button>\n",
              "\n",
              "<style>\n",
              "  .colab-df-quickchart {\n",
              "      --bg-color: #E8F0FE;\n",
              "      --fill-color: #1967D2;\n",
              "      --hover-bg-color: #E2EBFA;\n",
              "      --hover-fill-color: #174EA6;\n",
              "      --disabled-fill-color: #AAA;\n",
              "      --disabled-bg-color: #DDD;\n",
              "  }\n",
              "\n",
              "  [theme=dark] .colab-df-quickchart {\n",
              "      --bg-color: #3B4455;\n",
              "      --fill-color: #D2E3FC;\n",
              "      --hover-bg-color: #434B5C;\n",
              "      --hover-fill-color: #FFFFFF;\n",
              "      --disabled-bg-color: #3B4455;\n",
              "      --disabled-fill-color: #666;\n",
              "  }\n",
              "\n",
              "  .colab-df-quickchart {\n",
              "    background-color: var(--bg-color);\n",
              "    border: none;\n",
              "    border-radius: 50%;\n",
              "    cursor: pointer;\n",
              "    display: none;\n",
              "    fill: var(--fill-color);\n",
              "    height: 32px;\n",
              "    padding: 0;\n",
              "    width: 32px;\n",
              "  }\n",
              "\n",
              "  .colab-df-quickchart:hover {\n",
              "    background-color: var(--hover-bg-color);\n",
              "    box-shadow: 0 1px 2px rgba(60, 64, 67, 0.3), 0 1px 3px 1px rgba(60, 64, 67, 0.15);\n",
              "    fill: var(--button-hover-fill-color);\n",
              "  }\n",
              "\n",
              "  .colab-df-quickchart-complete:disabled,\n",
              "  .colab-df-quickchart-complete:disabled:hover {\n",
              "    background-color: var(--disabled-bg-color);\n",
              "    fill: var(--disabled-fill-color);\n",
              "    box-shadow: none;\n",
              "  }\n",
              "\n",
              "  .colab-df-spinner {\n",
              "    border: 2px solid var(--fill-color);\n",
              "    border-color: transparent;\n",
              "    border-bottom-color: var(--fill-color);\n",
              "    animation:\n",
              "      spin 1s steps(1) infinite;\n",
              "  }\n",
              "\n",
              "  @keyframes spin {\n",
              "    0% {\n",
              "      border-color: transparent;\n",
              "      border-bottom-color: var(--fill-color);\n",
              "      border-left-color: var(--fill-color);\n",
              "    }\n",
              "    20% {\n",
              "      border-color: transparent;\n",
              "      border-left-color: var(--fill-color);\n",
              "      border-top-color: var(--fill-color);\n",
              "    }\n",
              "    30% {\n",
              "      border-color: transparent;\n",
              "      border-left-color: var(--fill-color);\n",
              "      border-top-color: var(--fill-color);\n",
              "      border-right-color: var(--fill-color);\n",
              "    }\n",
              "    40% {\n",
              "      border-color: transparent;\n",
              "      border-right-color: var(--fill-color);\n",
              "      border-top-color: var(--fill-color);\n",
              "    }\n",
              "    60% {\n",
              "      border-color: transparent;\n",
              "      border-right-color: var(--fill-color);\n",
              "    }\n",
              "    80% {\n",
              "      border-color: transparent;\n",
              "      border-right-color: var(--fill-color);\n",
              "      border-bottom-color: var(--fill-color);\n",
              "    }\n",
              "    90% {\n",
              "      border-color: transparent;\n",
              "      border-bottom-color: var(--fill-color);\n",
              "    }\n",
              "  }\n",
              "</style>\n",
              "\n",
              "  <script>\n",
              "    async function quickchart(key) {\n",
              "      const quickchartButtonEl =\n",
              "        document.querySelector('#' + key + ' button');\n",
              "      quickchartButtonEl.disabled = true;  // To prevent multiple clicks.\n",
              "      quickchartButtonEl.classList.add('colab-df-spinner');\n",
              "      try {\n",
              "        const charts = await google.colab.kernel.invokeFunction(\n",
              "            'suggestCharts', [key], {});\n",
              "      } catch (error) {\n",
              "        console.error('Error during call to suggestCharts:', error);\n",
              "      }\n",
              "      quickchartButtonEl.classList.remove('colab-df-spinner');\n",
              "      quickchartButtonEl.classList.add('colab-df-quickchart-complete');\n",
              "    }\n",
              "    (() => {\n",
              "      let quickchartButtonEl =\n",
              "        document.querySelector('#df-2ed84c32-1bb5-47ed-84d2-71c0edbcac5a button');\n",
              "      quickchartButtonEl.style.display =\n",
              "        google.colab.kernel.accessAllowed ? 'block' : 'none';\n",
              "    })();\n",
              "  </script>\n",
              "</div>\n",
              "    </div>\n",
              "  </div>\n"
            ]
          },
          "metadata": {},
          "execution_count": 514
        }
      ]
    },
    {
      "cell_type": "markdown",
      "source": [
        "*  **Business Insights for relationship between them**\n",
        "\n",
        "   *  **Overall, males have a higher total purchase amount than females, especially when it comes to small purchase amounts.**\n",
        "\n",
        "  *  **Among males,the highest purchased category is Category 1, with 115,547 users. For females,Category 5 takes the lead with 41,961 female users making purchases in this category.**"
      ],
      "metadata": {
        "id": "87nDV9mfFlPp"
      }
    },
    {
      "cell_type": "markdown",
      "source": [
        "*  **Comments for each univariate and bivariate plot**\n",
        "\n",
        "   *  **The most purchased product categories in the Walmart store are 1,5 and 8.**\n",
        "   *  **Above 300,000 users are unmarried, while the range between 200,000 and 250,000 users consists of married.**\n",
        "   *  **The highest purchase amounts fall within the range of 5,000 to 8,000.**\n",
        "   *  **Product categories after 17 are the least purchased by female users.Categories 18 to 20 are not within the expected range, indicating an outlier.**\n",
        "   *  **For females, the purchase amount tends to be around 20,000, with amounts above that considered outliers. Male purchase amounts range from above 20,000 to below 23,000, with the rest being outliers.**\n",
        "   *  **There is a moderately strong negative correlation (-0.344) between the Product Category and Purchase.**\n",
        "   *  **Occupation categories 0, 4, and 7 have the highest number of users, while the least populated categories are 6 and 18.**"
      ],
      "metadata": {
        "id": "z4XPpKQPFyCm"
      }
    },
    {
      "cell_type": "markdown",
      "source": [
        "**4.Answering questions**"
      ],
      "metadata": {
        "id": "TRyXAkgRb3BB"
      }
    },
    {
      "cell_type": "markdown",
      "source": [
        "* **4.1.Are women spending more money per transaction than men? Why or Why not?**"
      ],
      "metadata": {
        "id": "jPFUFhtxcGGt"
      }
    },
    {
      "cell_type": "code",
      "source": [
        "df = df[['Gender','Purchase']]\n",
        "grouped = df.groupby('Gender').mean()\n",
        "print(grouped)"
      ],
      "metadata": {
        "colab": {
          "base_uri": "https://localhost:8080/"
        },
        "id": "dSD3CYuMQZML",
        "outputId": "0663f934-a15b-4c9d-e7e7-72c078060425"
      },
      "execution_count": null,
      "outputs": [
        {
          "output_type": "stream",
          "name": "stdout",
          "text": [
            "           Purchase\n",
            "Gender             \n",
            "F       8734.565765\n",
            "M       9437.526040\n"
          ]
        }
      ]
    },
    {
      "cell_type": "code",
      "source": [
        "df = df[['Gender', 'Purchase']]\n",
        "men = df[df['Gender'] == 'M']['Purchase']\n",
        "women = df[df['Gender'] == 'F']['Purchase']\n",
        "plt.hist(men, alpha=0.5, label='Men')\n",
        "plt.hist(women, alpha=0.5, label='Women')\n",
        "plt.xlabel('Purchase Amount')\n",
        "plt.ylabel('Frequency')\n",
        "plt.title('Distribution of Purchase Amount by Gender')\n",
        "plt.legend()\n",
        "plt.show()"
      ],
      "metadata": {
        "colab": {
          "base_uri": "https://localhost:8080/",
          "height": 472
        },
        "id": "hxcTw5snX-t0",
        "outputId": "6cc8911a-6cd5-4146-ba32-140a67d5ecef"
      },
      "execution_count": null,
      "outputs": [
        {
          "output_type": "display_data",
          "data": {
            "text/plain": [
              "<Figure size 640x480 with 1 Axes>"
            ],
            "image/png": "[encoded data removed]"
          },
          "metadata": {}
        }
      ]
    },
    {
      "cell_type": "markdown",
      "source": [
        "*    **Insights**\n",
        "\n",
        "       **No,men spending more money transactions then women. This may be because when married couples shop, they often buy for both, and men usually handle the payment. Additionally,the salary gap between men and women can lead to men making larger transactions.**"
      ],
      "metadata": {
        "id": "ivrYOv7C94pC"
      }
    },
    {
      "cell_type": "markdown",
      "source": [
        "* **4.2.Confidence intervals and distribution of the mean of the expenses by female and male customers**"
      ],
      "metadata": {
        "id": "mUwsDLShaJ9B"
      }
    },
    {
      "cell_type": "code",
      "source": [
        "male_df = df[df['Gender'] == 'M']\n",
        "\n",
        "sample_mean = male_df['Purchase'].mean()\n",
        "sample_std = male_df['Purchase'].std()\n",
        "\n",
        "\n",
        "sample_size,confidence_interval=3000,0.90\n",
        "\n",
        "num_samples = 1000\n",
        "sample_means = []\n",
        "for i in range(num_samples):\n",
        "    samples = np.random.choice(male_df['Purchase'], size=sample_size, replace=True)\n",
        "    sample_mean = samples.mean()\n",
        "    sample_means.append(sample_mean)\n",
        "\n",
        "lower_bound = np.percentile(sample_means, (1 - confidence_interval) / 2 * 100)\n",
        "upper_bound = np.percentile(sample_means, (1 + confidence_interval) / 2 * 100)\n",
        "\n",
        "plt.hist(sample_means, bins=30)\n",
        "plt.axvline(lower_bound, color='red')\n",
        "plt.axvline(upper_bound, color='red')\n",
        "plt.title(\"Histogram of Mean of Expenses by Male Customers with Confidence Interval\")\n",
        "plt.xlabel('Mean of Expenses by Male Customers')\n",
        "plt.ylabel('Frequency')\n",
        "plt.show()\n",
        "print()\n",
        "print(f'The {confidence_interval * 100}% confidence interval of the mean of expenses by male customers is ({lower_bound}, {upper_bound})')\n"
      ],
      "metadata": {
        "colab": {
          "base_uri": "https://localhost:8080/",
          "height": 507
        },
        "id": "EGuKKrrU2eMS",
        "outputId": "d927f215-ecf6-407c-faef-ffc1bc199106"
      },
      "execution_count": null,
      "outputs": [
        {
          "output_type": "display_data",
          "data": {
            "text/plain": [
              "<Figure size 640x480 with 1 Axes>"
            ],
            "image/png": "[encoded data removed]"
          },
          "metadata": {}
        },
        {
          "output_type": "stream",
          "name": "stdout",
          "text": [
            "\n",
            "The 90.0% confidence interval of the mean of expenses by male customers is (9289.2731, 9596.413016666667)\n"
          ]
        }
      ]
    },
    {
      "cell_type": "markdown",
      "source": [
        "*    **With 90% confidence, male customers are estimated to spend on average between approximately 9286.61 and 9594.12.**"
      ],
      "metadata": {
        "id": "GA8kat54JE-a"
      }
    },
    {
      "cell_type": "code",
      "source": [
        "male_df = df[df['Gender'] == 'M']\n",
        "\n",
        "sample_mean = male_df['Purchase'].mean()\n",
        "sample_std = male_df['Purchase'].std()\n",
        "\n",
        "\n",
        "sample_size,confidence_interval=3000,0.95\n",
        "\n",
        "num_samples = 1000\n",
        "sample_means = []\n",
        "for i in range(num_samples):\n",
        "    samples = np.random.choice(male_df['Purchase'], size=sample_size, replace=True)\n",
        "    sample_mean = samples.mean()\n",
        "    sample_means.append(sample_mean)\n",
        "\n",
        "lower_bound = np.percentile(sample_means, (1 - confidence_interval) / 2 * 100)\n",
        "upper_bound = np.percentile(sample_means, (1 + confidence_interval) / 2 * 100)\n",
        "\n",
        "plt.hist(sample_means, bins=30)\n",
        "plt.axvline(lower_bound, color='red')\n",
        "plt.axvline(upper_bound, color='red')\n",
        "plt.title(\"Histogram of Mean of Expenses by Male Customers with Confidence Interval\")\n",
        "plt.xlabel('Mean of Expenses by Male Customers')\n",
        "plt.ylabel('Frequency')\n",
        "plt.show()\n",
        "print()\n",
        "print(f'The {confidence_interval * 100}% confidence interval of the mean of expenses by male customers is ({lower_bound}, {upper_bound})')"
      ],
      "metadata": {
        "colab": {
          "base_uri": "https://localhost:8080/",
          "height": 507
        },
        "id": "e1G7D6Bl6cxi",
        "outputId": "d8c3b083-6a96-4e19-c443-62cb4b102fe2"
      },
      "execution_count": null,
      "outputs": [
        {
          "output_type": "display_data",
          "data": {
            "text/plain": [
              "<Figure size 640x480 with 1 Axes>"
            ],
            "image/png": "[encoded data removed]"
          },
          "metadata": {}
        },
        {
          "output_type": "stream",
          "name": "stdout",
          "text": [
            "\n",
            "The 95.0% confidence interval of the mean of expenses by male customers is (9237.981458333334, 9620.832658333333)\n"
          ]
        }
      ]
    },
    {
      "cell_type": "markdown",
      "source": [
        "*    **The 95% confidence interval suggests that on average male customers are likely to spend between approximately 9251 and 9614.**"
      ],
      "metadata": {
        "id": "VSUjEZ19JyNg"
      }
    },
    {
      "cell_type": "code",
      "source": [
        "male_df = df[df['Gender'] == 'M']\n",
        "\n",
        "sample_mean = male_df['Purchase'].mean()\n",
        "sample_std = male_df['Purchase'].std()\n",
        "\n",
        "\n",
        "sample_size,confidence_interval=3000,0.99\n",
        "\n",
        "num_samples = 1000\n",
        "sample_means = []\n",
        "for i in range(num_samples):\n",
        "    samples = np.random.choice(male_df['Purchase'], size=sample_size, replace=True)\n",
        "    sample_mean = samples.mean()\n",
        "    sample_means.append(sample_mean)\n",
        "\n",
        "lower_bound = np.percentile(sample_means, (1 - confidence_interval) / 2 * 100)\n",
        "upper_bound = np.percentile(sample_means, (1 + confidence_interval) / 2 * 100)\n",
        "\n",
        "plt.hist(sample_means, bins=30)\n",
        "plt.axvline(lower_bound, color='red')\n",
        "plt.axvline(upper_bound, color='red')\n",
        "plt.title(\"Histogram of Mean of Expenses by Male Customers with Confidence Interval\")\n",
        "plt.xlabel('Mean of Expenses by Male Customers')\n",
        "plt.ylabel('Frequency')\n",
        "plt.show()\n",
        "print()\n",
        "print(f'The {confidence_interval * 100}% confidence interval of the mean of expenses by male customers is ({lower_bound}, {upper_bound})')"
      ],
      "metadata": {
        "colab": {
          "base_uri": "https://localhost:8080/",
          "height": 507
        },
        "id": "Y_0j2dw56eq3",
        "outputId": "65e27f21-4f1a-4902-9a59-bc4321cbed0d"
      },
      "execution_count": null,
      "outputs": [
        {
          "output_type": "display_data",
          "data": {
            "text/plain": [
              "<Figure size 640x480 with 1 Axes>"
            ],
            "image/png": "[encoded data removed]"
          },
          "metadata": {}
        },
        {
          "output_type": "stream",
          "name": "stdout",
          "text": [
            "\n",
            "The 99.0% confidence interval of the mean of expenses by male customers is (9189.423535, 9667.28309)\n"
          ]
        }
      ]
    },
    {
      "cell_type": "markdown",
      "source": [
        "*    **The 99% confidence interval for the mean of expenses by male customers which ranges from approximately 9196.65 to 9651.80**"
      ],
      "metadata": {
        "id": "eWx1Gh1YKQ0J"
      }
    },
    {
      "cell_type": "code",
      "source": [
        "female_df = df[df['Gender'] == 'F']\n",
        "\n",
        "sample_mean = female_df['Purchase'].mean()\n",
        "sample_std = female_df['Purchase'].std()\n",
        "\n",
        "\n",
        "sample_size,confidence_interval=3000,0.90\n",
        "\n",
        "num_samples = 1000\n",
        "sample_means = []\n",
        "for i in range(num_samples):\n",
        "    samples = np.random.choice(female_df['Purchase'], size=sample_size, replace=True)\n",
        "    sample_mean = samples.mean()\n",
        "    sample_means.append(sample_mean)\n",
        "\n",
        "lower_bound = np.percentile(sample_means, (1 - confidence_interval) / 2 * 100)\n",
        "upper_bound = np.percentile(sample_means, (1 + confidence_interval) / 2 * 100)\n",
        "\n",
        "plt.hist(sample_means, bins=30)\n",
        "plt.axvline(lower_bound, color='red')\n",
        "plt.axvline(upper_bound, color='red')\n",
        "plt.title(\"Histogram of Mean of Expenses by Female Customers with Confidence Interval\")\n",
        "plt.xlabel('Mean of Expenses by Female Customers')\n",
        "plt.ylabel('Frequency')\n",
        "plt.show()\n",
        "print()\n",
        "print(f'The {confidence_interval * 100}% confidence interval of the mean of expenses by Female customers is ({lower_bound}, {upper_bound})')"
      ],
      "metadata": {
        "colab": {
          "base_uri": "https://localhost:8080/",
          "height": 507
        },
        "id": "dM68Scq46hyc",
        "outputId": "1e1bfd1e-43d4-4ad3-f7c1-53187fb36cc7"
      },
      "execution_count": null,
      "outputs": [
        {
          "output_type": "display_data",
          "data": {
            "text/plain": [
              "<Figure size 640x480 with 1 Axes>"
            ],
            "image/png": "[encoded data removed]"
          },
          "metadata": {}
        },
        {
          "output_type": "stream",
          "name": "stdout",
          "text": [
            "\n",
            "The 90.0% confidence interval of the mean of expenses by Female customers is (8590.194666666666, 8886.3503)\n"
          ]
        }
      ]
    },
    {
      "cell_type": "markdown",
      "source": [
        "*    **The 90% confidence interval for the mean of expenses by Female customers which ranges from approximately 8592.17 to 8877.74**"
      ],
      "metadata": {
        "id": "InaBXqyDKdiD"
      }
    },
    {
      "cell_type": "code",
      "source": [
        "female_df = df[df['Gender'] == 'F']\n",
        "\n",
        "sample_mean = female_df['Purchase'].mean()\n",
        "sample_std = female_df['Purchase'].std()\n",
        "\n",
        "\n",
        "sample_size,confidence_interval=3000,0.95\n",
        "\n",
        "num_samples = 1000\n",
        "sample_means = []\n",
        "for i in range(num_samples):\n",
        "    samples = np.random.choice(female_df['Purchase'], size=sample_size, replace=True)\n",
        "    sample_mean = samples.mean()\n",
        "    sample_means.append(sample_mean)\n",
        "\n",
        "lower_bound = np.percentile(sample_means, (1 - confidence_interval) / 2 * 100)\n",
        "upper_bound = np.percentile(sample_means, (1 + confidence_interval) / 2 * 100)\n",
        "\n",
        "plt.hist(sample_means, bins=30)\n",
        "plt.axvline(lower_bound, color='red')\n",
        "plt.axvline(upper_bound, color='red')\n",
        "plt.title(\"Histogram of Mean of Expenses by Female Customers with Confidence Interval\")\n",
        "plt.xlabel('Mean of Expenses by Female Customers')\n",
        "plt.ylabel('Frequency')\n",
        "plt.show()\n",
        "print()\n",
        "print(f'The {confidence_interval * 100}% confidence interval of the mean of expenses by Female customers is ({lower_bound}, {upper_bound})')"
      ],
      "metadata": {
        "colab": {
          "base_uri": "https://localhost:8080/",
          "height": 507
        },
        "id": "fdIqpQ7L68Rc",
        "outputId": "623946c2-aabd-44ca-9f22-f00b6fad15c8"
      },
      "execution_count": null,
      "outputs": [
        {
          "output_type": "display_data",
          "data": {
            "text/plain": [
              "<Figure size 640x480 with 1 Axes>"
            ],
            "image/png": "[encoded data removed]"
          },
          "metadata": {}
        },
        {
          "output_type": "stream",
          "name": "stdout",
          "text": [
            "\n",
            "The 95.0% confidence interval of the mean of expenses by Female customers is (8578.3214, 8903.644416666668)\n"
          ]
        }
      ]
    },
    {
      "cell_type": "markdown",
      "source": [
        "*    **The 95% confidence interval for the mean of expenses by Female customers which ranges from approximately 8565.22 to 8903.04**"
      ],
      "metadata": {
        "id": "quvwH_90KpaC"
      }
    },
    {
      "cell_type": "code",
      "source": [
        "female_df = df[df['Gender'] == 'F']\n",
        "\n",
        "sample_mean = female_df['Purchase'].mean()\n",
        "sample_std = female_df['Purchase'].std()\n",
        "\n",
        "\n",
        "sample_size,confidence_interval=3000,0.99\n",
        "\n",
        "num_samples = 1000\n",
        "sample_means = []\n",
        "for i in range(num_samples):\n",
        "    samples = np.random.choice(female_df['Purchase'], size=sample_size, replace=True)\n",
        "    sample_mean = samples.mean()\n",
        "    sample_means.append(sample_mean)\n",
        "\n",
        "lower_bound = np.percentile(sample_means, (1 - confidence_interval) / 2 * 100)\n",
        "upper_bound = np.percentile(sample_means, (1 + confidence_interval) / 2 * 100)\n",
        "\n",
        "plt.hist(sample_means, bins=30)\n",
        "plt.axvline(lower_bound, color='red')\n",
        "plt.axvline(upper_bound, color='red')\n",
        "plt.title(\"Histogram of Mean of Expenses by Female Customers with Confidence Interval\")\n",
        "plt.xlabel('Mean of Expenses by Female Customers')\n",
        "plt.ylabel('Frequency')\n",
        "plt.show()\n",
        "print()\n",
        "print(f'The {confidence_interval * 100}% confidence interval of the mean of expenses by Female customers is ({lower_bound}, {upper_bound})')"
      ],
      "metadata": {
        "colab": {
          "base_uri": "https://localhost:8080/",
          "height": 507
        },
        "id": "mtJxudzM6-pa",
        "outputId": "024fbc12-ec59-4517-8120-8bb2a89edcb2"
      },
      "execution_count": null,
      "outputs": [
        {
          "output_type": "display_data",
          "data": {
            "text/plain": [
              "<Figure size 640x480 with 1 Axes>"
            ],
            "image/png": "[encoded data removed]"
          },
          "metadata": {}
        },
        {
          "output_type": "stream",
          "name": "stdout",
          "text": [
            "\n",
            "The 99.0% confidence interval of the mean of expenses by Female customers is (8514.900708333334, 8948.354811666666)\n"
          ]
        }
      ]
    },
    {
      "cell_type": "markdown",
      "source": [
        "*    **The 99% confidence interval for the mean of expenses by Female customers which ranges from approximately 8519.16 to 8954.98**"
      ],
      "metadata": {
        "id": "HDfQJRz2K0zg"
      }
    },
    {
      "cell_type": "markdown",
      "source": [
        "*  **Business Insights for Confidence intervals and distribution of the mean of the expenses by female and male customers:**\n",
        "\n",
        "     **Male customers spend more than females,with 90% Confidence interval: [9286.61, 9594.12] for males and 90% Confidence interval: [8592.17, 8877.74] for females showing a wider spending difference.**"
      ],
      "metadata": {
        "id": "E78SVnCMNetE"
      }
    },
    {
      "cell_type": "markdown",
      "source": [
        "**4.3.Are confidence intervals of average male and female spending overlapping? How can Walmart leverage this conclusion to make changes or improvements?**"
      ],
      "metadata": {
        "id": "hNxJ_QmjVvQn"
      }
    },
    {
      "cell_type": "code",
      "source": [
        "male_df = df[df['Gender'] == 'M']\n",
        "female_df = df[df['Gender'] == 'F']\n",
        "\n",
        "male_mean = male_df['Purchase'].mean()\n",
        "male_std = male_df['Purchase'].std()\n",
        "female_mean = female_df['Purchase'].mean()\n",
        "female_std = female_df['Purchase'].std()\n",
        "\n",
        "male_sample_size = 3000\n",
        "female_sample_size = 3000\n",
        "\n",
        "confidence_level = 0.90\n",
        "\n",
        "z_critical = stats.norm.ppf((1 + confidence_level) / 2)\n",
        "\n",
        "male_standard_error = male_std / np.sqrt(male_sample_size)\n",
        "female_standard_error = female_std / np.sqrt(female_sample_size)\n",
        "\n",
        "male_margin_of_error = z_critical * male_standard_error\n",
        "female_margin_of_error = z_critical * female_standard_error\n",
        "\n",
        "male_confidence_interval = (male_mean - male_margin_of_error, male_mean + male_margin_of_error)\n",
        "female_confidence_interval = (female_mean - female_margin_of_error, female_mean + female_margin_of_error)\n",
        "\n",
        "print(\"Male Confidence Interval:\", male_confidence_interval)\n",
        "print(\"Female Confidence Interval:\", female_confidence_interval)\n",
        "\n",
        "if (male_confidence_interval[1] >= female_confidence_interval[0] and\n",
        "        male_confidence_interval[0] <= female_confidence_interval[1]):\n",
        "    print(\"There is an overlap between male and female spending confidence intervals\")\n",
        "else:\n",
        "    print(\"There is no overlap between male and female spending confidence intervals\")"
      ],
      "metadata": {
        "colab": {
          "base_uri": "https://localhost:8080/"
        },
        "id": "ddxOLQfyQ0j8",
        "outputId": "bdeebb63-407d-465b-c6bc-8f80fc0d30de"
      },
      "execution_count": null,
      "outputs": [
        {
          "output_type": "stream",
          "name": "stdout",
          "text": [
            "Male Confidence Interval: (9284.603710699741, 9590.448370244789)\n",
            "Female Confidence Interval: (8591.402025430534, 8877.729504880417)\n",
            "There is no overlap between male and female spending confidence intervals\n"
          ]
        }
      ]
    },
    {
      "cell_type": "code",
      "source": [
        "male_df = df[df['Gender'] == 'M']\n",
        "female_df = df[df['Gender'] == 'F']\n",
        "\n",
        "male_mean = male_df['Purchase'].mean()\n",
        "male_std = male_df['Purchase'].std()\n",
        "female_mean = female_df['Purchase'].mean()\n",
        "female_std = female_df['Purchase'].std()\n",
        "\n",
        "male_sample_size = 3000\n",
        "female_sample_size = 3000\n",
        "\n",
        "confidence_level = 0.95\n",
        "\n",
        "z_critical = stats.norm.ppf((1 + confidence_level) / 2)\n",
        "\n",
        "male_standard_error = male_std / np.sqrt(male_sample_size)\n",
        "female_standard_error = female_std / np.sqrt(female_sample_size)\n",
        "\n",
        "male_margin_of_error = z_critical * male_standard_error\n",
        "female_margin_of_error = z_critical * female_standard_error\n",
        "\n",
        "male_confidence_interval = (male_mean - male_margin_of_error, male_mean + male_margin_of_error)\n",
        "female_confidence_interval = (female_mean - female_margin_of_error, female_mean + female_margin_of_error)\n",
        "\n",
        "print(\"Male Confidence Interval:\", male_confidence_interval)\n",
        "print(\"Female Confidence Interval:\", female_confidence_interval)\n",
        "\n",
        "if (male_confidence_interval[1] >= female_confidence_interval[0] and\n",
        "        male_confidence_interval[0] <= female_confidence_interval[1]):\n",
        "    print(\"There is an overlap between male and female spending confidence intervals\")\n",
        "else:\n",
        "    print(\"There is no overlap between male and female spending confidence intervals\")"
      ],
      "metadata": {
        "colab": {
          "base_uri": "https://localhost:8080/"
        },
        "id": "J1B1yr5lVhBS",
        "outputId": "a14dd5f6-30e4-42e3-dc94-35047a3c6837"
      },
      "execution_count": null,
      "outputs": [
        {
          "output_type": "stream",
          "name": "stdout",
          "text": [
            "Male Confidence Interval: (9255.307845567224, 9619.744235377306)\n",
            "Female Confidence Interval: (8563.9756474968, 8905.155882814151)\n",
            "There is no overlap between male and female spending confidence intervals\n"
          ]
        }
      ]
    },
    {
      "cell_type": "code",
      "source": [
        "male_df = df[df['Gender'] == 'M']\n",
        "female_df = df[df['Gender'] == 'F']\n",
        "\n",
        "male_mean = male_df['Purchase'].mean()\n",
        "male_std = male_df['Purchase'].std()\n",
        "female_mean = female_df['Purchase'].mean()\n",
        "female_std = female_df['Purchase'].std()\n",
        "\n",
        "male_sample_size = 3000\n",
        "female_sample_size = 3000\n",
        "\n",
        "confidence_level = 0.99\n",
        "\n",
        "z_critical = stats.norm.ppf((1 + confidence_level) / 2)\n",
        "\n",
        "male_standard_error = male_std / np.sqrt(male_sample_size)\n",
        "female_standard_error = female_std / np.sqrt(female_sample_size)\n",
        "\n",
        "male_margin_of_error = z_critical * male_standard_error\n",
        "female_margin_of_error = z_critical * female_standard_error\n",
        "\n",
        "male_confidence_interval = (male_mean - male_margin_of_error, male_mean + male_margin_of_error)\n",
        "female_confidence_interval = (female_mean - female_margin_of_error, female_mean + female_margin_of_error)\n",
        "\n",
        "print(\"Male Confidence Interval:\", male_confidence_interval)\n",
        "print(\"Female Confidence Interval:\", female_confidence_interval)\n",
        "\n",
        "if (male_confidence_interval[1] >= female_confidence_interval[0] and\n",
        "        male_confidence_interval[0] <= female_confidence_interval[1]):\n",
        "    print(\"There is an overlap between male and female spending confidence intervals\")\n",
        "else:\n",
        "    print(\"There is no overlap between male and female spending confidence intervals\")"
      ],
      "metadata": {
        "colab": {
          "base_uri": "https://localhost:8080/"
        },
        "id": "eeG_RkjrVhSY",
        "outputId": "a5a4f0ed-50f0-4665-9467-a61ef501e897"
      },
      "execution_count": null,
      "outputs": [
        {
          "output_type": "stream",
          "name": "stdout",
          "text": [
            "Male Confidence Interval: (9198.050738998125, 9677.001341946405)\n",
            "Female Confidence Interval: (8510.372347609497, 8958.759182701455)\n",
            "There is no overlap between male and female spending confidence intervals\n"
          ]
        }
      ]
    },
    {
      "cell_type": "markdown",
      "source": [
        "*  **Business Insights for Are confidence intervals of average male and female spending overlapping**\n",
        "\n",
        "    *    **When the confidence level is 0.90 the Male Confidence Interval lies between 9284.60 and 9590.45 for Female Confidence Interval it lies between 8591.40 and 8877.73**\n",
        "\n",
        "    *    **When the confidence level is 0.95 the Male Confidence Interval lies between 9255.30 and 9619.74 for Female Confidence Interval it lies between 8563.97 and 8905.15**\n",
        "\n",
        "    *    **When the confidence level is 0.99 the Male Confidence Interval lies between 9198.05 and 9677.00 for Female Confidence Interval it lies between 8510.37 and 8958.75**"
      ],
      "metadata": {
        "id": "EHishBv2RKr8"
      }
    },
    {
      "cell_type": "markdown",
      "source": [
        "**4.4.Results when the same activity is performed for Married vs Unmarried**"
      ],
      "metadata": {
        "id": "j9Q1_uciV6SL"
      }
    },
    {
      "cell_type": "code",
      "source": [
        "married_df = original_df[original_df['Marital_Status'] == 1]\n",
        "unmarried_df = original_df[original_df['Marital_Status'] == 0]\n",
        "\n",
        "married_mean = married_df['Purchase'].mean()\n",
        "married_std = married_df['Purchase'].std()\n",
        "unmarried_mean = unmarried_df['Purchase'].mean()\n",
        "unmarried_std = unmarried_df['Purchase'].std()\n",
        "\n",
        "married_sample_size = len(married_df)\n",
        "unmarried_sample_size = len(unmarried_df)\n",
        "\n",
        "confidence_level = 0.90\n",
        "\n",
        "z_critical = stats.norm.ppf((1 + confidence_level) / 2)\n",
        "\n",
        "married_standard_error = married_std / np.sqrt(married_sample_size)\n",
        "unmarried_standard_error = unmarried_std / np.sqrt(unmarried_sample_size)\n",
        "\n",
        "married_margin_of_error = z_critical * married_standard_error\n",
        "unmarried_margin_of_error = z_critical * unmarried_standard_error\n",
        "\n",
        "married_confidence_interval = (married_mean - married_margin_of_error, married_mean + married_margin_of_error)\n",
        "unmarried_confidence_interval = (unmarried_mean - unmarried_margin_of_error, unmarried_mean + unmarried_margin_of_error)\n",
        "\n",
        "print(\"Married Confidence Interval:\", married_confidence_interval)\n",
        "print(\"Unmarried Confidence Interval:\", unmarried_confidence_interval)\n",
        "\n",
        "if (married_confidence_interval[1] >= unmarried_confidence_interval[0] and\n",
        "        married_confidence_interval[0] <= unmarried_confidence_interval[1]):\n",
        "    print(\"There is an overlap between married and unmarried spending confidence intervals.\")\n",
        "else:\n",
        "    print(\"There is no overlap between married and unmarried spending confidence intervals.\")"
      ],
      "metadata": {
        "colab": {
          "base_uri": "https://localhost:8080/"
        },
        "id": "tH8hIEzFWBCg",
        "outputId": "4723d828-f77d-4c79-aa0f-c8c7d1da9d61"
      },
      "execution_count": null,
      "outputs": [
        {
          "output_type": "stream",
          "name": "stdout",
          "text": [
            "Married Confidence Interval: (9243.790713903045, 9278.558434261702)\n",
            "Unmarried Confidence Interval: (9251.396385823671, 9280.418852019342)\n",
            "There is an overlap between married and unmarried spending confidence intervals.\n"
          ]
        }
      ]
    },
    {
      "cell_type": "code",
      "source": [
        "married_df = original_df[original_df['Marital_Status'] == 1]\n",
        "unmarried_df = original_df[original_df['Marital_Status'] == 0]\n",
        "\n",
        "married_mean = married_df['Purchase'].mean()\n",
        "married_std = married_df['Purchase'].std()\n",
        "unmarried_mean = unmarried_df['Purchase'].mean()\n",
        "unmarried_std = unmarried_df['Purchase'].std()\n",
        "\n",
        "married_sample_size = len(married_df)\n",
        "unmarried_sample_size = len(unmarried_df)\n",
        "\n",
        "confidence_level = 0.95\n",
        "\n",
        "z_critical = stats.norm.ppf((1 + confidence_level) / 2)\n",
        "\n",
        "married_standard_error = married_std / np.sqrt(married_sample_size)\n",
        "unmarried_standard_error = unmarried_std / np.sqrt(unmarried_sample_size)\n",
        "\n",
        "married_margin_of_error = z_critical * married_standard_error\n",
        "unmarried_margin_of_error = z_critical * unmarried_standard_error\n",
        "\n",
        "married_confidence_interval = (married_mean - married_margin_of_error, married_mean + married_margin_of_error)\n",
        "unmarried_confidence_interval = (unmarried_mean - unmarried_margin_of_error, unmarried_mean + unmarried_margin_of_error)\n",
        "\n",
        "print(\"Married Confidence Interval:\", married_confidence_interval)\n",
        "print(\"Unmarried Confidence Interval:\", unmarried_confidence_interval)\n",
        "\n",
        "if (married_confidence_interval[1] >= unmarried_confidence_interval[0] and\n",
        "        married_confidence_interval[0] <= unmarried_confidence_interval[1]):\n",
        "    print(\"There is an overlap between married and unmarried spending confidence intervals.\")\n",
        "else:\n",
        "    print(\"There is no overlap between married and unmarried spending confidence intervals.\")"
      ],
      "metadata": {
        "colab": {
          "base_uri": "https://localhost:8080/"
        },
        "id": "r8nzMTlmcF7X",
        "outputId": "6e0d686b-a372-4f3f-e98d-b4ba35239ccc"
      },
      "execution_count": null,
      "outputs": [
        {
          "output_type": "stream",
          "name": "stdout",
          "text": [
            "Married Confidence Interval: (9240.460427057078, 9281.888721107669)\n",
            "Unmarried Confidence Interval: (9248.61641818668, 9283.198819656332)\n",
            "There is an overlap between married and unmarried spending confidence intervals.\n"
          ]
        }
      ]
    },
    {
      "cell_type": "code",
      "source": [
        "married_df = original_df[original_df['Marital_Status'] == 1]\n",
        "unmarried_df = original_df[original_df['Marital_Status'] == 0]\n",
        "\n",
        "married_mean = married_df['Purchase'].mean()\n",
        "married_std = married_df['Purchase'].std()\n",
        "unmarried_mean = unmarried_df['Purchase'].mean()\n",
        "unmarried_std = unmarried_df['Purchase'].std()\n",
        "\n",
        "married_sample_size = len(married_df)\n",
        "unmarried_sample_size = len(unmarried_df)\n",
        "\n",
        "confidence_level = 0.99\n",
        "\n",
        "z_critical = stats.norm.ppf((1 + confidence_level) / 2)\n",
        "\n",
        "married_standard_error = married_std / np.sqrt(married_sample_size)\n",
        "unmarried_standard_error = unmarried_std / np.sqrt(unmarried_sample_size)\n",
        "\n",
        "married_margin_of_error = z_critical * married_standard_error\n",
        "unmarried_margin_of_error = z_critical * unmarried_standard_error\n",
        "\n",
        "married_confidence_interval = (married_mean - married_margin_of_error, married_mean + married_margin_of_error)\n",
        "unmarried_confidence_interval = (unmarried_mean - unmarried_margin_of_error, unmarried_mean + unmarried_margin_of_error)\n",
        "\n",
        "print(\"Married Confidence Interval:\", married_confidence_interval)\n",
        "print(\"Unmarried Confidence Interval:\", unmarried_confidence_interval)\n",
        "\n",
        "if (married_confidence_interval[1] >= unmarried_confidence_interval[0] and\n",
        "        married_confidence_interval[0] <= unmarried_confidence_interval[1]):\n",
        "    print(\"There is an overlap between married and unmarried spending confidence intervals.\")\n",
        "else:\n",
        "    print(\"There is no overlap between married and unmarried spending confidence intervals.\")"
      ],
      "metadata": {
        "colab": {
          "base_uri": "https://localhost:8080/"
        },
        "id": "4JgtDGmfcICy",
        "outputId": "f564f5bb-bc3e-43b9-f474-0cb74ca70150"
      },
      "execution_count": null,
      "outputs": [
        {
          "output_type": "stream",
          "name": "stdout",
          "text": [
            "Married Confidence Interval: (9233.951570329937, 9288.39757783481)\n",
            "Unmarried Confidence Interval: (9243.183129136169, 9288.632108706845)\n",
            "There is an overlap between married and unmarried spending confidence intervals.\n"
          ]
        }
      ]
    },
    {
      "cell_type": "markdown",
      "source": [
        "*  **Business Insights for Results when the same activity is performed for Married vs Unmarried**\n",
        "\n",
        "    *  **When the confidence level is 0.90 the Married Confidence Interval lies between 9243.79 and  9278.55, for Unmarried Confidence Interval it lies between 9251.39 and 9280.41**\n",
        "\n",
        "    *  **When the confidence level is 0.95 the Married Confidence Interval lies between 9240.46 and 9281.88,for Unmarried Confidence Interval it lies between 9248.61 and 9283.19**\n",
        "\n",
        "    *  **When the confidence level is 0.99 the Married Confidence Interval lies between 9233.95 and 9288.39,for Unmarried Confidence Interval it lies between 9243.18 and 9288.63**\n"
      ],
      "metadata": {
        "id": "G4qagWOoTAL0"
      }
    },
    {
      "cell_type": "markdown",
      "source": [
        "*  **4.5.Results when the same activity is performed for Age**"
      ],
      "metadata": {
        "id": "jvVYjAJOcaC4"
      }
    },
    {
      "cell_type": "code",
      "source": [
        "age_groups = ['0-17', '18-25', '26-35', '36-45', '46-50', '51-55', '55+']\n",
        "\n",
        "age_wise_mean_ = []\n",
        "age_wise_std_ = []\n",
        "age_wise_sample_size_ = []\n",
        "\n",
        "for age_group in age_groups:\n",
        "    age_wise_df = original_df[original_df['Age'] == age_group]\n",
        "    age_wise_mean = age_wise_df['Purchase'].mean()\n",
        "    age_wise_std = age_wise_df['Purchase'].std()\n",
        "    age_wise_sample_size = len(age_wise_df)\n",
        "    age_wise_mean_.append(age_wise_mean)\n",
        "    age_wise_std_.append(age_wise_std)\n",
        "    age_wise_sample_size_.append(age_wise_sample_size)\n",
        "\n",
        "confidence_level = 0.90\n",
        "\n",
        "z_critical = stats.norm.ppf((1 + confidence_level) / 2)\n",
        "\n",
        "age_wise_standard_errors = [age_wise_std_[i] / np.sqrt(age_wise_sample_size_[i]) for i in range(len(age_wise_std_))]\n",
        "\n",
        "age_wise_margins_of_error = [z_critical * age_wise_standard_errors[i] for i in range(len(age_wise_standard_errors))]\n",
        "\n",
        "age_wise_confidence_intervals = [(age_wise_mean_[i] - age_wise_margins_of_error[i], age_wise_mean_[i] + age_wise_margins_of_error[i]) for i in range(len(age_wise_mean_))]\n",
        "\n",
        "for i in range(len(age_groups)):\n",
        "    print(\"Age Group:\", age_groups[i])\n",
        "    print(\"Confidence Interval:\", age_wise_confidence_intervals[i])\n",
        "\n",
        "overlap = False\n",
        "for i in range(len(age_wise_confidence_intervals)):\n",
        "    for j in range(i + 1, len(age_wise_confidence_intervals)):\n",
        "        if (age_wise_confidence_intervals[i][1] >= age_wise_confidence_intervals[j][0] and\n",
        "                age_wise_confidence_intervals[i][0] <= age_wise_confidence_intervals[j][1]):\n",
        "            overlap = True\n",
        "            break\n",
        "\n",
        "if overlap:\n",
        "    print(\"There is an overlap between age group spending confidence intervals.\")\n",
        "else:\n",
        "    print(\"There is no overlap between age group spending confidence intervals.\")"
      ],
      "metadata": {
        "colab": {
          "base_uri": "https://localhost:8080/"
        },
        "id": "IQOEBO4D9jpZ",
        "outputId": "eeea8c4b-58bc-45b6-eb07-2e57d2a68d6b"
      },
      "execution_count": null,
      "outputs": [
        {
          "output_type": "stream",
          "name": "stdout",
          "text": [
            "Age Group: 0-17\n",
            "Confidence Interval: (8865.053694527898, 9001.87558636205)\n",
            "Age Group: 18-25\n",
            "Confidence Interval: (9143.433031607847, 9195.89418091473)\n",
            "Age Group: 26-35\n",
            "Confidence Interval: (9235.103000581124, 9270.278265158651)\n",
            "Age Group: 36-45\n",
            "Confidence Interval: (9306.441376202305, 9356.260013633442)\n",
            "Age Group: 46-50\n",
            "Confidence Interval: (9170.406859081895, 9246.84453585476)\n",
            "Age Group: 51-55\n",
            "Confidence Interval: (9492.161430973249, 9577.454630947223)\n",
            "Age Group: 55+\n",
            "Confidence Interval: (9280.067707714425, 9392.493211184385)\n",
            "There is an overlap between age group spending confidence intervals.\n"
          ]
        }
      ]
    },
    {
      "cell_type": "code",
      "source": [
        "age_groups = ['0-17', '18-25', '26-35', '36-45', '46-50', '51-55', '55+']\n",
        "\n",
        "age_wise_mean_ = []\n",
        "age_wise_std_ = []\n",
        "age_wise_sample_size_ = []\n",
        "\n",
        "for age_group in age_groups:\n",
        "    age_wise_df = original_df[original_df['Age'] == age_group]\n",
        "    age_wise_mean = age_wise_df['Purchase'].mean()\n",
        "    age_wise_std = age_wise_df['Purchase'].std()\n",
        "    age_wise_sample_size = len(age_wise_df)\n",
        "    age_wise_mean_.append(age_wise_mean)\n",
        "    age_wise_std_.append(age_wise_std)\n",
        "    age_wise_sample_size_.append(age_wise_sample_size)\n",
        "\n",
        "confidence_level = 0.95\n",
        "\n",
        "z_critical = stats.norm.ppf((1 + confidence_level) / 2)\n",
        "\n",
        "age_wise_standard_errors = [age_wise_std_[i] / np.sqrt(age_wise_sample_size_[i]) for i in range(len(age_wise_std_))]\n",
        "\n",
        "age_wise_margins_of_error = [z_critical * age_wise_standard_errors[i] for i in range(len(age_wise_standard_errors))]\n",
        "\n",
        "age_wise_confidence_intervals = [(age_wise_mean_[i] - age_wise_margins_of_error[i], age_wise_mean_[i] + age_wise_margins_of_error[i]) for i in range(len(age_wise_mean_))]\n",
        "\n",
        "for i in range(len(age_groups)):\n",
        "    print(\"Age Group:\", age_groups[i])\n",
        "    print(\"Confidence Interval:\", age_wise_confidence_intervals[i])\n",
        "\n",
        "overlap = False\n",
        "for i in range(len(age_wise_confidence_intervals)):\n",
        "    for j in range(i + 1, len(age_wise_confidence_intervals)):\n",
        "        if (age_wise_confidence_intervals[i][1] >= age_wise_confidence_intervals[j][0] and\n",
        "                age_wise_confidence_intervals[i][0] <= age_wise_confidence_intervals[j][1]):\n",
        "            overlap = True\n",
        "            break\n",
        "\n",
        "if overlap:\n",
        "    print(\"There is an overlap between age group spending confidence intervals.\")\n",
        "else:\n",
        "    print(\"There is no overlap between age group spending confidence intervals.\")"
      ],
      "metadata": {
        "colab": {
          "base_uri": "https://localhost:8080/"
        },
        "id": "CsWgW8JRi-0A",
        "outputId": "3b860913-1921-42fd-ae41-02db555c954c"
      },
      "execution_count": null,
      "outputs": [
        {
          "output_type": "stream",
          "name": "stdout",
          "text": [
            "Age Group: 0-17\n",
            "Confidence Interval: (8851.947970542686, 9014.981310347262)\n",
            "Age Group: 18-25\n",
            "Confidence Interval: (9138.407948753442, 9200.919263769136)\n",
            "Age Group: 26-35\n",
            "Confidence Interval: (9231.733676400028, 9273.647589339747)\n",
            "Age Group: 36-45\n",
            "Confidence Interval: (9301.669410965314, 9361.031978870433)\n",
            "Age Group: 46-50\n",
            "Confidence Interval: (9163.085142648752, 9254.166252287903)\n",
            "Age Group: 51-55\n",
            "Confidence Interval: (9483.991472776577, 9585.624589143894)\n",
            "Age Group: 55+\n",
            "Confidence Interval: (9269.29883441773, 9403.262084481079)\n",
            "There is an overlap between age group spending confidence intervals.\n"
          ]
        }
      ]
    },
    {
      "cell_type": "code",
      "source": [
        "age_groups = ['0-17', '18-25', '26-35', '36-45', '46-50', '51-55', '55+']\n",
        "\n",
        "age_wise_mean_ = []\n",
        "age_wise_std_ = []\n",
        "age_wise_sample_size_ = []\n",
        "\n",
        "for age_group in age_groups:\n",
        "    age_wise_df = original_df[original_df['Age'] == age_group]\n",
        "    age_wise_mean = age_wise_df['Purchase'].mean()\n",
        "    age_wise_std = age_wise_df['Purchase'].std()\n",
        "    age_wise_sample_size = len(age_wise_df)\n",
        "    age_wise_mean_.append(age_wise_mean)\n",
        "    age_wise_std_.append(age_wise_std)\n",
        "    age_wise_sample_size_.append(age_wise_sample_size)\n",
        "\n",
        "confidence_level = 0.99\n",
        "\n",
        "z_critical = stats.norm.ppf((1 + confidence_level) / 2)\n",
        "\n",
        "age_wise_standard_errors = [age_wise_std_[i] / np.sqrt(age_wise_sample_size_[i]) for i in range(len(age_wise_std_))]\n",
        "\n",
        "age_wise_margins_of_error = [z_critical * age_wise_standard_errors[i] for i in range(len(age_wise_standard_errors))]\n",
        "\n",
        "age_wise_confidence_intervals = [(age_wise_mean_[i] - age_wise_margins_of_error[i], age_wise_mean_[i] + age_wise_margins_of_error[i]) for i in range(len(age_wise_mean_))]\n",
        "\n",
        "for i in range(len(age_groups)):\n",
        "    print(\"Age Group:\", age_groups[i])\n",
        "    print(\"Confidence Interval:\", age_wise_confidence_intervals[i])\n",
        "\n",
        "overlap = False\n",
        "for i in range(len(age_wise_confidence_intervals)):\n",
        "    for j in range(i + 1, len(age_wise_confidence_intervals)):\n",
        "        if (age_wise_confidence_intervals[i][1] >= age_wise_confidence_intervals[j][0] and\n",
        "                age_wise_confidence_intervals[i][0] <= age_wise_confidence_intervals[j][1]):\n",
        "            overlap = True\n",
        "            break\n",
        "\n",
        "if overlap:\n",
        "    print(\"There is an overlap between age group spending confidence intervals.\")\n",
        "else:\n",
        "    print(\"There is no overlap between age group spending confidence intervals.\")"
      ],
      "metadata": {
        "colab": {
          "base_uri": "https://localhost:8080/"
        },
        "id": "Blt3mdXEmMLc",
        "outputId": "84ed074e-06d3-4900-c9f9-226b895ff5cf"
      },
      "execution_count": null,
      "outputs": [
        {
          "output_type": "stream",
          "name": "stdout",
          "text": [
            "Age Group: 0-17\n",
            "Confidence Interval: (8826.333576446717, 9040.59570444323)\n",
            "Age Group: 18-25\n",
            "Confidence Interval: (9128.586709366526, 9210.740503156052)\n",
            "Age Group: 26-35\n",
            "Confidence Interval: (9225.148523415806, 9280.23274232397)\n",
            "Age Group: 36-45\n",
            "Confidence Interval: (9292.342875603326, 9370.358514232421)\n",
            "Age Group: 46-50\n",
            "Confidence Interval: (9148.775263210646, 9268.476131726009)\n",
            "Age Group: 51-55\n",
            "Confidence Interval: (9468.02375292888, 9601.59230899159)\n",
            "Age Group: 55+\n",
            "Confidence Interval: (9248.251682432667, 9424.309236466142)\n",
            "There is an overlap between age group spending confidence intervals.\n"
          ]
        }
      ]
    },
    {
      "cell_type": "markdown",
      "source": [
        "**Recommendations**\n",
        "\n",
        "  *  **Male purchasing amount was higher than Female purchasing amount. So walmart can also focus on giving some offers to both male and Female so they can retain male customer and it can also increase their purchasing amount of Female customer**\n",
        "\n",
        "  *  **The age group between 26-35 spend more money than others. In order to increase the purchasing amount in other age group walmart can give student discounts to the age group between 0-17 and 18-25.**\n",
        "\n",
        "  * **There are more unmarried customers than the married ones,so walmart can do some campaign for married couples like home appliances,products for children and offer rewards for family-related purchases.**\n",
        "\n",
        "  *  **Categories 19 and 20 sell less and are mostly bought by men. To boost sales,we could lower their prices of these categories during  Black Friday week.**\n",
        "\n",
        "  *  **The occupation category 8 has significantly lower purchase amounts compared to others. So we can encourage them to use credit cards during black friday week and we can offer additional discounts when they pay with cards.**\n",
        "\n",
        "  *  **In all city categories, males have higher purchase amounts. To boost sales further, we can offer additional cashback rewards to male customers in city categories B, C, and A.**\n",
        "\n",
        "  *  **Both Male and Female customer who stayed one year in the city have highest purchasing amount so we can offer them 50% discount during black friday week**\n",
        "\n",
        "  *  **We can promote credit card usage during Black Friday week by offering cashback incentives or additional discounts. This strategy can increase sales for both genders.**"
      ],
      "metadata": {
        "id": "HrxwqmJrZUQw"
      }
    }
  ]
}